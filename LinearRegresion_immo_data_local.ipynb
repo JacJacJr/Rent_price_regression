{
  "cells": [
    {
      "cell_type": "code",
      "execution_count": null,
      "metadata": {
        "colab": {
          "base_uri": "https://localhost:8080/"
        },
        "id": "6yAHNPo2X7C1",
        "outputId": "b729a965-f3e2-4f80-a97a-26fc9240590f"
      },
      "outputs": [
        {
          "output_type": "stream",
          "name": "stdout",
          "text": [
            "Drive already mounted at /content/drive; to attempt to forcibly remount, call drive.mount(\"/content/drive\", force_remount=True).\n"
          ]
        }
      ],
      "source": [
        "from google.colab import drive\n",
        "drive.mount('/content/drive')"
      ]
    },
    {
      "cell_type": "code",
      "execution_count": null,
      "metadata": {
        "colab": {
          "base_uri": "https://localhost:8080/",
          "height": 381
        },
        "id": "cySmdKX8YThL",
        "outputId": "bc9fa536-e93d-4410-e344-576c0dcb5484"
      },
      "outputs": [
        {
          "output_type": "execute_result",
          "data": {
            "text/plain": [
              "                regio1  serviceCharge                     heatingType  \\\n",
              "0  Nordrhein_Westfalen          245.0                 central_heating   \n",
              "1      Rheinland_Pfalz          134.0  self_contained_central_heating   \n",
              "2              Sachsen          255.0                   floor_heating   \n",
              "\n",
              "  telekomTvOffer  telekomHybridUploadSpeed  newlyConst  balcony  picturecount  \\\n",
              "0  ONE_YEAR_FREE                       NaN       False    False             6   \n",
              "1  ONE_YEAR_FREE                       NaN       False     True             8   \n",
              "2  ONE_YEAR_FREE                      10.0        True     True             8   \n",
              "\n",
              "   pricetrend  telekomUploadSpeed  totalRent  yearConstructed    scoutId  \\\n",
              "0        4.62                10.0      840.0           1965.0   96107057   \n",
              "1        3.47                10.0        NaN           1871.0  111378734   \n",
              "2        2.72                 2.4     1300.0           2019.0  113147523   \n",
              "\n",
              "   noParkSpaces firingTypes  hasKitchen              geo_bln  cellar  \\\n",
              "0           1.0         oil       False  Nordrhein_Westfalen    True   \n",
              "1           2.0         gas       False      Rheinland_Pfalz   False   \n",
              "2           1.0         NaN       False              Sachsen    True   \n",
              "\n",
              "   yearConstructedRange  baseRent houseNumber  livingSpace            geo_krs  \\\n",
              "0                   2.0     595.0         244         86.0           Dortmund   \n",
              "1                   1.0     800.0         NaN         89.0  Rhein_Pfalz_Kreis   \n",
              "2                   9.0     965.0           4         83.8            Dresden   \n",
              "\n",
              "        condition   interiorQual petsAllowed                      street  \\\n",
              "0       well_kept         normal         NaN  Sch&uuml;ruferstra&szlig;e   \n",
              "1     refurbished         normal          no              no_information   \n",
              "2  first_time_use  sophisticated         NaN                   Turnerweg   \n",
              "\n",
              "       streetPlain   lift  baseRentRange    typeOfFlat  geo_plz  noRooms  \\\n",
              "0  Schüruferstraße  False              4  ground_floor    44269      4.0   \n",
              "1              NaN  False              5  ground_floor    67459      3.0   \n",
              "2        Turnerweg   True              6     apartment     1097      3.0   \n",
              "\n",
              "   thermalChar  floor  numberOfFloors  noRoomsRange  garden  livingSpaceRange  \\\n",
              "0        181.4    1.0             3.0             4    True                 4   \n",
              "1          NaN    NaN             NaN             3   False                 4   \n",
              "2          NaN    3.0             4.0             3   False                 4   \n",
              "\n",
              "              regio2                      regio3  \\\n",
              "0           Dortmund                     Schüren   \n",
              "1  Rhein_Pfalz_Kreis              Böhl_Iggelheim   \n",
              "2            Dresden  Äußere_Neustadt_Antonstadt   \n",
              "\n",
              "                                         description  \\\n",
              "0  Die ebenerdig zu erreichende Erdgeschosswohnun...   \n",
              "1  Alles neu macht der Mai – so kann es auch für ...   \n",
              "2  Der Neubau entsteht im Herzen der Dresdner Neu...   \n",
              "\n",
              "                                          facilities  heatingCosts  \\\n",
              "0  Die Wohnung ist mit Laminat ausgelegt. Das Bad...           NaN   \n",
              "1                                                NaN           NaN   \n",
              "2  * 9 m² Balkon\\n* Bad mit bodengleicher Dusche,...           NaN   \n",
              "\n",
              "  energyEfficiencyClass  lastRefurbish  electricityBasePrice  \\\n",
              "0                   NaN            NaN                   NaN   \n",
              "1                   NaN         2019.0                   NaN   \n",
              "2                   NaN            NaN                   NaN   \n",
              "\n",
              "   electricityKwhPrice   date  \n",
              "0                  NaN  May19  \n",
              "1                  NaN  May19  \n",
              "2                  NaN  Oct19  "
            ],
            "text/html": [
              "\n",
              "  <div id=\"df-52b2fbfd-a879-46b0-93bd-6e3c9b3f337c\">\n",
              "    <div class=\"colab-df-container\">\n",
              "      <div>\n",
              "<style scoped>\n",
              "    .dataframe tbody tr th:only-of-type {\n",
              "        vertical-align: middle;\n",
              "    }\n",
              "\n",
              "    .dataframe tbody tr th {\n",
              "        vertical-align: top;\n",
              "    }\n",
              "\n",
              "    .dataframe thead th {\n",
              "        text-align: right;\n",
              "    }\n",
              "</style>\n",
              "<table border=\"1\" class=\"dataframe\">\n",
              "  <thead>\n",
              "    <tr style=\"text-align: right;\">\n",
              "      <th></th>\n",
              "      <th>regio1</th>\n",
              "      <th>serviceCharge</th>\n",
              "      <th>heatingType</th>\n",
              "      <th>telekomTvOffer</th>\n",
              "      <th>telekomHybridUploadSpeed</th>\n",
              "      <th>newlyConst</th>\n",
              "      <th>balcony</th>\n",
              "      <th>picturecount</th>\n",
              "      <th>pricetrend</th>\n",
              "      <th>telekomUploadSpeed</th>\n",
              "      <th>totalRent</th>\n",
              "      <th>yearConstructed</th>\n",
              "      <th>scoutId</th>\n",
              "      <th>noParkSpaces</th>\n",
              "      <th>firingTypes</th>\n",
              "      <th>hasKitchen</th>\n",
              "      <th>geo_bln</th>\n",
              "      <th>cellar</th>\n",
              "      <th>yearConstructedRange</th>\n",
              "      <th>baseRent</th>\n",
              "      <th>houseNumber</th>\n",
              "      <th>livingSpace</th>\n",
              "      <th>geo_krs</th>\n",
              "      <th>condition</th>\n",
              "      <th>interiorQual</th>\n",
              "      <th>petsAllowed</th>\n",
              "      <th>street</th>\n",
              "      <th>streetPlain</th>\n",
              "      <th>lift</th>\n",
              "      <th>baseRentRange</th>\n",
              "      <th>typeOfFlat</th>\n",
              "      <th>geo_plz</th>\n",
              "      <th>noRooms</th>\n",
              "      <th>thermalChar</th>\n",
              "      <th>floor</th>\n",
              "      <th>numberOfFloors</th>\n",
              "      <th>noRoomsRange</th>\n",
              "      <th>garden</th>\n",
              "      <th>livingSpaceRange</th>\n",
              "      <th>regio2</th>\n",
              "      <th>regio3</th>\n",
              "      <th>description</th>\n",
              "      <th>facilities</th>\n",
              "      <th>heatingCosts</th>\n",
              "      <th>energyEfficiencyClass</th>\n",
              "      <th>lastRefurbish</th>\n",
              "      <th>electricityBasePrice</th>\n",
              "      <th>electricityKwhPrice</th>\n",
              "      <th>date</th>\n",
              "    </tr>\n",
              "  </thead>\n",
              "  <tbody>\n",
              "    <tr>\n",
              "      <th>0</th>\n",
              "      <td>Nordrhein_Westfalen</td>\n",
              "      <td>245.0</td>\n",
              "      <td>central_heating</td>\n",
              "      <td>ONE_YEAR_FREE</td>\n",
              "      <td>NaN</td>\n",
              "      <td>False</td>\n",
              "      <td>False</td>\n",
              "      <td>6</td>\n",
              "      <td>4.62</td>\n",
              "      <td>10.0</td>\n",
              "      <td>840.0</td>\n",
              "      <td>1965.0</td>\n",
              "      <td>96107057</td>\n",
              "      <td>1.0</td>\n",
              "      <td>oil</td>\n",
              "      <td>False</td>\n",
              "      <td>Nordrhein_Westfalen</td>\n",
              "      <td>True</td>\n",
              "      <td>2.0</td>\n",
              "      <td>595.0</td>\n",
              "      <td>244</td>\n",
              "      <td>86.0</td>\n",
              "      <td>Dortmund</td>\n",
              "      <td>well_kept</td>\n",
              "      <td>normal</td>\n",
              "      <td>NaN</td>\n",
              "      <td>Sch&amp;uuml;ruferstra&amp;szlig;e</td>\n",
              "      <td>Schüruferstraße</td>\n",
              "      <td>False</td>\n",
              "      <td>4</td>\n",
              "      <td>ground_floor</td>\n",
              "      <td>44269</td>\n",
              "      <td>4.0</td>\n",
              "      <td>181.4</td>\n",
              "      <td>1.0</td>\n",
              "      <td>3.0</td>\n",
              "      <td>4</td>\n",
              "      <td>True</td>\n",
              "      <td>4</td>\n",
              "      <td>Dortmund</td>\n",
              "      <td>Schüren</td>\n",
              "      <td>Die ebenerdig zu erreichende Erdgeschosswohnun...</td>\n",
              "      <td>Die Wohnung ist mit Laminat ausgelegt. Das Bad...</td>\n",
              "      <td>NaN</td>\n",
              "      <td>NaN</td>\n",
              "      <td>NaN</td>\n",
              "      <td>NaN</td>\n",
              "      <td>NaN</td>\n",
              "      <td>May19</td>\n",
              "    </tr>\n",
              "    <tr>\n",
              "      <th>1</th>\n",
              "      <td>Rheinland_Pfalz</td>\n",
              "      <td>134.0</td>\n",
              "      <td>self_contained_central_heating</td>\n",
              "      <td>ONE_YEAR_FREE</td>\n",
              "      <td>NaN</td>\n",
              "      <td>False</td>\n",
              "      <td>True</td>\n",
              "      <td>8</td>\n",
              "      <td>3.47</td>\n",
              "      <td>10.0</td>\n",
              "      <td>NaN</td>\n",
              "      <td>1871.0</td>\n",
              "      <td>111378734</td>\n",
              "      <td>2.0</td>\n",
              "      <td>gas</td>\n",
              "      <td>False</td>\n",
              "      <td>Rheinland_Pfalz</td>\n",
              "      <td>False</td>\n",
              "      <td>1.0</td>\n",
              "      <td>800.0</td>\n",
              "      <td>NaN</td>\n",
              "      <td>89.0</td>\n",
              "      <td>Rhein_Pfalz_Kreis</td>\n",
              "      <td>refurbished</td>\n",
              "      <td>normal</td>\n",
              "      <td>no</td>\n",
              "      <td>no_information</td>\n",
              "      <td>NaN</td>\n",
              "      <td>False</td>\n",
              "      <td>5</td>\n",
              "      <td>ground_floor</td>\n",
              "      <td>67459</td>\n",
              "      <td>3.0</td>\n",
              "      <td>NaN</td>\n",
              "      <td>NaN</td>\n",
              "      <td>NaN</td>\n",
              "      <td>3</td>\n",
              "      <td>False</td>\n",
              "      <td>4</td>\n",
              "      <td>Rhein_Pfalz_Kreis</td>\n",
              "      <td>Böhl_Iggelheim</td>\n",
              "      <td>Alles neu macht der Mai – so kann es auch für ...</td>\n",
              "      <td>NaN</td>\n",
              "      <td>NaN</td>\n",
              "      <td>NaN</td>\n",
              "      <td>2019.0</td>\n",
              "      <td>NaN</td>\n",
              "      <td>NaN</td>\n",
              "      <td>May19</td>\n",
              "    </tr>\n",
              "    <tr>\n",
              "      <th>2</th>\n",
              "      <td>Sachsen</td>\n",
              "      <td>255.0</td>\n",
              "      <td>floor_heating</td>\n",
              "      <td>ONE_YEAR_FREE</td>\n",
              "      <td>10.0</td>\n",
              "      <td>True</td>\n",
              "      <td>True</td>\n",
              "      <td>8</td>\n",
              "      <td>2.72</td>\n",
              "      <td>2.4</td>\n",
              "      <td>1300.0</td>\n",
              "      <td>2019.0</td>\n",
              "      <td>113147523</td>\n",
              "      <td>1.0</td>\n",
              "      <td>NaN</td>\n",
              "      <td>False</td>\n",
              "      <td>Sachsen</td>\n",
              "      <td>True</td>\n",
              "      <td>9.0</td>\n",
              "      <td>965.0</td>\n",
              "      <td>4</td>\n",
              "      <td>83.8</td>\n",
              "      <td>Dresden</td>\n",
              "      <td>first_time_use</td>\n",
              "      <td>sophisticated</td>\n",
              "      <td>NaN</td>\n",
              "      <td>Turnerweg</td>\n",
              "      <td>Turnerweg</td>\n",
              "      <td>True</td>\n",
              "      <td>6</td>\n",
              "      <td>apartment</td>\n",
              "      <td>1097</td>\n",
              "      <td>3.0</td>\n",
              "      <td>NaN</td>\n",
              "      <td>3.0</td>\n",
              "      <td>4.0</td>\n",
              "      <td>3</td>\n",
              "      <td>False</td>\n",
              "      <td>4</td>\n",
              "      <td>Dresden</td>\n",
              "      <td>Äußere_Neustadt_Antonstadt</td>\n",
              "      <td>Der Neubau entsteht im Herzen der Dresdner Neu...</td>\n",
              "      <td>* 9 m² Balkon\\n* Bad mit bodengleicher Dusche,...</td>\n",
              "      <td>NaN</td>\n",
              "      <td>NaN</td>\n",
              "      <td>NaN</td>\n",
              "      <td>NaN</td>\n",
              "      <td>NaN</td>\n",
              "      <td>Oct19</td>\n",
              "    </tr>\n",
              "  </tbody>\n",
              "</table>\n",
              "</div>\n",
              "      <button class=\"colab-df-convert\" onclick=\"convertToInteractive('df-52b2fbfd-a879-46b0-93bd-6e3c9b3f337c')\"\n",
              "              title=\"Convert this dataframe to an interactive table.\"\n",
              "              style=\"display:none;\">\n",
              "        \n",
              "  <svg xmlns=\"http://www.w3.org/2000/svg\" height=\"24px\"viewBox=\"0 0 24 24\"\n",
              "       width=\"24px\">\n",
              "    <path d=\"M0 0h24v24H0V0z\" fill=\"none\"/>\n",
              "    <path d=\"M18.56 5.44l.94 2.06.94-2.06 2.06-.94-2.06-.94-.94-2.06-.94 2.06-2.06.94zm-11 1L8.5 8.5l.94-2.06 2.06-.94-2.06-.94L8.5 2.5l-.94 2.06-2.06.94zm10 10l.94 2.06.94-2.06 2.06-.94-2.06-.94-.94-2.06-.94 2.06-2.06.94z\"/><path d=\"M17.41 7.96l-1.37-1.37c-.4-.4-.92-.59-1.43-.59-.52 0-1.04.2-1.43.59L10.3 9.45l-7.72 7.72c-.78.78-.78 2.05 0 2.83L4 21.41c.39.39.9.59 1.41.59.51 0 1.02-.2 1.41-.59l7.78-7.78 2.81-2.81c.8-.78.8-2.07 0-2.86zM5.41 20L4 18.59l7.72-7.72 1.47 1.35L5.41 20z\"/>\n",
              "  </svg>\n",
              "      </button>\n",
              "      \n",
              "  <style>\n",
              "    .colab-df-container {\n",
              "      display:flex;\n",
              "      flex-wrap:wrap;\n",
              "      gap: 12px;\n",
              "    }\n",
              "\n",
              "    .colab-df-convert {\n",
              "      background-color: #E8F0FE;\n",
              "      border: none;\n",
              "      border-radius: 50%;\n",
              "      cursor: pointer;\n",
              "      display: none;\n",
              "      fill: #1967D2;\n",
              "      height: 32px;\n",
              "      padding: 0 0 0 0;\n",
              "      width: 32px;\n",
              "    }\n",
              "\n",
              "    .colab-df-convert:hover {\n",
              "      background-color: #E2EBFA;\n",
              "      box-shadow: 0px 1px 2px rgba(60, 64, 67, 0.3), 0px 1px 3px 1px rgba(60, 64, 67, 0.15);\n",
              "      fill: #174EA6;\n",
              "    }\n",
              "\n",
              "    [theme=dark] .colab-df-convert {\n",
              "      background-color: #3B4455;\n",
              "      fill: #D2E3FC;\n",
              "    }\n",
              "\n",
              "    [theme=dark] .colab-df-convert:hover {\n",
              "      background-color: #434B5C;\n",
              "      box-shadow: 0px 1px 3px 1px rgba(0, 0, 0, 0.15);\n",
              "      filter: drop-shadow(0px 1px 2px rgba(0, 0, 0, 0.3));\n",
              "      fill: #FFFFFF;\n",
              "    }\n",
              "  </style>\n",
              "\n",
              "      <script>\n",
              "        const buttonEl =\n",
              "          document.querySelector('#df-52b2fbfd-a879-46b0-93bd-6e3c9b3f337c button.colab-df-convert');\n",
              "        buttonEl.style.display =\n",
              "          google.colab.kernel.accessAllowed ? 'block' : 'none';\n",
              "\n",
              "        async function convertToInteractive(key) {\n",
              "          const element = document.querySelector('#df-52b2fbfd-a879-46b0-93bd-6e3c9b3f337c');\n",
              "          const dataTable =\n",
              "            await google.colab.kernel.invokeFunction('convertToInteractive',\n",
              "                                                     [key], {});\n",
              "          if (!dataTable) return;\n",
              "\n",
              "          const docLinkHtml = 'Like what you see? Visit the ' +\n",
              "            '<a target=\"_blank\" href=https://colab.research.google.com/notebooks/data_table.ipynb>data table notebook</a>'\n",
              "            + ' to learn more about interactive tables.';\n",
              "          element.innerHTML = '';\n",
              "          dataTable['output_type'] = 'display_data';\n",
              "          await google.colab.output.renderOutput(dataTable, element);\n",
              "          const docLink = document.createElement('div');\n",
              "          docLink.innerHTML = docLinkHtml;\n",
              "          element.appendChild(docLink);\n",
              "        }\n",
              "      </script>\n",
              "    </div>\n",
              "  </div>\n",
              "  "
            ]
          },
          "metadata": {},
          "execution_count": 370
        }
      ],
      "source": [
        "import pandas as pd\n",
        "pd.options.display.max_columns = None\n",
        "\n",
        "path = './drive/MyDrive/EWD_2022'\n",
        "row_data = pd.read_csv(f\"{path}/immo_data.csv\")\n",
        "data = row_data #duplicate data frame for working at\n",
        "data.head(3)"
      ]
    },
    {
      "cell_type": "code",
      "execution_count": null,
      "metadata": {
        "colab": {
          "base_uri": "https://localhost:8080/"
        },
        "id": "GNF_c4fLZowR",
        "outputId": "2d066aab-c731-4159-a664-54c3c4ca9d61"
      },
      "outputs": [
        {
          "output_type": "stream",
          "name": "stdout",
          "text": [
            "regio1\n",
            "['Nordrhein_Westfalen' 'Rheinland_Pfalz' 'Sachsen' 'Bremen'\n",
            " 'Schleswig_Holstein' 'Baden_Württemberg' 'Thüringen' 'Hessen'\n",
            " 'Niedersachsen' 'Bayern' 'Hamburg' 'Sachsen_Anhalt'\n",
            " 'Mecklenburg_Vorpommern' 'Berlin' 'Brandenburg' 'Saarland']\n",
            "serviceCharge\n",
            "[245.   134.   255.   ... 189.65 250.94 112.13]\n",
            "heatingType\n",
            "['central_heating' 'self_contained_central_heating' 'floor_heating'\n",
            " 'district_heating' 'gas_heating' 'oil_heating' nan 'wood_pellet_heating'\n",
            " 'electric_heating' 'combined_heat_and_power_plant' 'heat_pump'\n",
            " 'night_storage_heater' 'stove_heating' 'solar_heating']\n",
            "telekomTvOffer\n",
            "['ONE_YEAR_FREE' nan 'NONE' 'ON_DEMAND']\n",
            "telekomHybridUploadSpeed\n",
            "[nan 10.]\n",
            "newlyConst\n",
            "[False  True]\n",
            "balcony\n",
            "[False  True]\n",
            "picturecount\n",
            "[  6   8   9  19   5   7  11   4   3  12  17  35  15  13  22  18  14  25\n",
            "  29  10   2  28  16   0   1  26  20  21  31  32  42  27  23  30  24  53\n",
            "  40  36  33  48  57  34  39  47  38  73  49  37  66  41  62  44  52  99\n",
            "  45  78  46  50  43  60  56 121  68  88  64  89  51  65  69  55  76  72\n",
            "  59  61  83  54  58  77  79  70 101  63  67  75  84 100 109 107  80 112\n",
            "  82  81  74  94  87]\n",
            "pricetrend\n",
            "[ 4.62  3.47  2.72 ... 10.3  -3.88 -0.45]\n",
            "telekomUploadSpeed\n",
            "[ 10.    2.4  40.    nan   5.  100.    1.    4. ]\n",
            "totalRent\n",
            "[ 840.       nan 1300.   ...  436.55  828.77 1479.64]\n",
            "yearConstructed\n",
            "[1965. 1871. 2019. 1964. 1950. 1999.   nan 1959. 1970. 1953. 1930. 1892.\n",
            " 1912. 1951. 2018. 1990. 1897. 1914. 2013. 1978. 1890. 1902. 1977. 1956.\n",
            " 1974. 1976. 2016. 1996. 1966. 1928. 1994. 1975. 1987. 1900. 1920. 2007.\n",
            " 1980. 1905. 1909. 1995. 1969. 1918. 1968. 1958. 1963. 1998. 2000. 2017.\n",
            " 1997. 2014. 1972. 1979. 2001. 1984. 1800. 1981. 1936. 1993. 1967. 1960.\n",
            " 1962. 1985. 1957. 1989. 2015. 1932. 1880. 1910. 1875. 1870. 1986. 1933.\n",
            " 2020. 1988. 1939. 1973. 2012. 1896. 1901. 2011. 1927. 1907. 1926. 1992.\n",
            " 2004. 1767. 1937. 1919. 1983. 1899. 1911. 1780. 1925. 2005. 1898. 1908.\n",
            " 1971. 1991. 2009. 1982. 1961. 1935. 1955. 1954. 1946. 1952. 1903. 1500.\n",
            " 1940. 2008. 1895. 1938. 1913. 1881. 1894. 1929. 1904. 1942. 2010. 1949.\n",
            " 1931. 1573. 1906. 1685. 1945. 1887. 2006. 1916. 1915. 1888. 1877. 2002.\n",
            " 1850. 1921. 2003. 1922. 1893. 1917. 1924. 1948. 1111. 1860. 1889. 1572.\n",
            " 1534. 1934. 1923. 1865. 1947. 1864. 1869. 1943. 1849. 1874. 1735. 1884.\n",
            " 1876. 1763. 1750. 1760. 1885. 1818. 1941. 1740. 1866. 1586. 1886. 1568.\n",
            " 1600. 1661. 1830. 1882. 1828. 1710. 1752. 1879. 1519. 1655. 1855. 1280.\n",
            " 1873. 1868. 1680. 1820. 1650. 1756. 1891. 1944. 1730. 1836. 1716. 1657.\n",
            " 1837. 1558. 1840. 1835. 1862. 1515. 1811. 1833. 1798. 1853. 1688. 1648.\n",
            " 1808. 1537. 1790. 1883. 1709. 1720. 1779. 1513. 1400. 1734. 1700. 1696.\n",
            " 1878. 1365. 1856. 1857. 1375. 1789. 1783. 1774. 1848. 1829. 1721. 1722.\n",
            " 1858. 1863. 1630. 1806. 1539. 1823. 1564. 1603. 1852. 1859. 1867. 1827.\n",
            " 1608. 1670. 1854. 1430. 1618. 1683. 1460. 1847. 1842. 1330. 1612. 1786.\n",
            " 1639. 1845. 1562. 1550. 1300. 2021. 1839. 1622. 1810. 1803. 1797. 1792.\n",
            " 1775. 1784. 1699. 1420. 1525. 1872. 1692. 1658. 2029. 1861. 1841. 1652.\n",
            " 1718. 1825. 1832. 1561. 1776. 1723. 1791. 1514. 1590. 1690. 1711. 1725.\n",
            " 1200. 1668. 1814. 1769. 1678. 1736. 1816. 1851. 1724. 1846. 1777. 2026.\n",
            " 1355. 1713. 1560. 1838. 1623. 1785. 1480. 1691. 1672. 1778. 1805. 1395.\n",
            " 1532. 1599. 1663. 1666. 2022. 1815. 1770. 1450. 1190. 1180. 1717. 1843.\n",
            " 1817. 1679. 1634. 1589. 1795. 1553. 1689. 2090. 1826. 1078. 1197. 1822.\n",
            " 1036. 1712. 1007. 1549. 1834. 1731. 1831. 1640. 1628. 1193. 1747. 1536.\n",
            " 1592. 1585. 1359. 1749. 1027. 1787. 1616. 1580. 1627. 1331. 1378. 1819.\n",
            " 1844. 1632. 1766. 1698. 1702. 1620. 1761. 1619. 1584. 1755. 1000. 1633.\n",
            " 1097. 1418. 1794. 1715. 1754. 1695. 1520. 1714. 1587. 1772. 1737. 1697.\n",
            " 1727. 1660. 1781. 1745. 1645. 1194. 1063. 1605. 1195. 1518. 1738. 1475.\n",
            " 1570. 1626. 1543. 1005. 1741. 1665. 1653. 1693. 1611. 1762. 1625. 1732.\n",
            " 1759. 1764. 1788. 1491. 1729. 1523. 1751. 1602. 1526. 1583. 1824. 1813.\n",
            " 1664. 1646. 1380. 1370. 1471. 1782. 1684. 1196. 1748. 1578. 1707. 1708.\n",
            " 1719. 1743. 1799. 1807. 1598. 1191. 1669. 1706. 1606. 1758. 1470. 1681.\n",
            " 1667. 1390. 1821. 1386. 1198. 1647. 1070. 1624. 1276. 1705. 1804. 1565.\n",
            " 1567. 1733. 1404. 1530. 1547. 1621. 1440. 1601. 1796. 1472.]\n",
            "scoutId\n",
            "[ 96107057 111378734 113147523 ...  66924271 110938302 115524054]\n",
            "noParkSpaces\n",
            "[1.000e+00 2.000e+00       nan 2.700e+01 0.000e+00 3.000e+00 4.000e+00\n",
            " 2.500e+01 3.100e+01 3.000e+01 5.000e+00 1.200e+01 5.000e+01 1.800e+01\n",
            " 4.800e+01 2.200e+01 1.500e+01 4.600e+01 8.000e+01 1.300e+01 2.600e+01\n",
            " 1.900e+01 2.000e+01 2.400e+01 3.300e+01 8.000e+00 8.300e+01 1.400e+01\n",
            " 1.500e+02 6.000e+01 6.000e+00 9.000e+00 7.000e+00 1.000e+01 6.500e+01\n",
            " 1.100e+01 9.500e+01 7.500e+01 1.600e+01 1.300e+02 9.300e+01 4.000e+01\n",
            " 7.000e+01 3.600e+01 1.700e+01 9.900e+01 8.200e+01 2.300e+01 3.800e+01\n",
            " 9.000e+01 8.500e+01 2.100e+01 3.900e+01 2.800e+01 4.500e+01 3.500e+01\n",
            " 6.400e+01 5.400e+01 8.700e+01 5.500e+01 1.260e+02 6.100e+01 3.400e+01\n",
            " 3.200e+02 8.100e+01 7.600e+01 5.900e+01 3.700e+01 7.300e+01 3.100e+02\n",
            " 2.241e+03 5.800e+01]\n",
            "firingTypes\n",
            "['oil' 'gas' nan 'district_heating' 'gas:electricity' 'electricity'\n",
            " 'pellet_heating' 'natural_gas_light'\n",
            " 'combined_heat_and_power_fossil_fuels' 'district_heating:local_heating'\n",
            " 'steam_district_heating' 'natural_gas_heavy' 'gas:district_heating'\n",
            " 'solar_heating:gas' 'environmental_thermal_energy' 'local_heating'\n",
            " 'gas:natural_gas_light' 'geothermal'\n",
            " 'combined_heat_and_power_regenerative_energy' 'heat_supply'\n",
            " 'oil:electricity' 'solar_heating' 'geothermal:solar_heating'\n",
            " 'district_heating:electricity' 'liquid_gas' 'wood' 'hydro_energy'\n",
            " 'combined_heat_and_power_renewable_energy' 'coal'\n",
            " 'gas:steam_district_heating' 'bio_energy'\n",
            " 'gas:environmental_thermal_energy' 'wood_chips' 'gas:oil'\n",
            " 'solar_heating:wood' 'geothermal:gas' 'solar_heating:gas:electricity'\n",
            " 'gas:natural_gas_light:heat_supply' 'pellet_heating:gas'\n",
            " 'solar_heating:gas:bio_energy' 'oil:wood'\n",
            " 'electricity:combined_heat_and_power_fossil_fuels'\n",
            " 'gas:natural_gas_heavy' 'solar_heating:oil'\n",
            " 'combined_heat_and_power_bio_energy' 'pellet_heating:wood'\n",
            " 'district_heating:combined_heat_and_power_fossil_fuels'\n",
            " 'electricity:natural_gas_heavy'\n",
            " 'district_heating:electricity:local_heating'\n",
            " 'electricity:natural_gas_light' 'geothermal:district_heating'\n",
            " 'electricity:bio_energy' 'district_heating:coal' 'oil:district_heating'\n",
            " 'solar_heating:electricity' 'pellet_heating:electricity'\n",
            " 'solar_heating:natural_gas_light' 'solar_heating:oil:wood'\n",
            " 'solar_heating:district_heating'\n",
            " 'district_heating:combined_heat_and_power_renewable_energy'\n",
            " 'district_heating:electricity:local_heating:combined_heat_and_power_fossil_fuels'\n",
            " 'solar_heating:pellet_heating' 'district_heating:heat_supply'\n",
            " 'electricity:local_heating' 'natural_gas_light:heat_supply'\n",
            " 'solar_heating:natural_gas_light:environmental_thermal_energy'\n",
            " 'oil:environmental_thermal_energy'\n",
            " 'electricity:environmental_thermal_energy' 'gas:bio_energy'\n",
            " 'oil:natural_gas_light' 'gas:local_heating' 'pellet_heating:oil'\n",
            " 'natural_gas_light:natural_gas_heavy'\n",
            " 'gas:combined_heat_and_power_fossil_fuels' 'district_heating:bio_energy'\n",
            " 'district_heating:local_heating:combined_heat_and_power_fossil_fuels'\n",
            " 'solar_heating:gas:district_heating'\n",
            " 'solar_heating:wood:environmental_thermal_energy' 'gas:wood'\n",
            " 'solar_heating:gas:wood' 'wind_energy' 'geothermal:electricity'\n",
            " 'district_heating:electricity:combined_heat_and_power_fossil_fuels'\n",
            " 'gas:district_heating:local_heating' 'coal_coke'\n",
            " 'natural_gas_light:liquid_gas' 'electricity:wood'\n",
            " 'local_heating:combined_heat_and_power_fossil_fuels'\n",
            " 'geothermal:bio_energy'\n",
            " 'solar_heating:gas:electricity:coal:coal_coke:local_heating'\n",
            " 'pellet_heating:district_heating' 'solar_heating:local_heating'\n",
            " 'district_heating:combined_heat_and_power_regenerative_energy'\n",
            " 'gas:electricity:environmental_thermal_energy'\n",
            " 'liquid_gas:steam_district_heating:wood:wood_chips:coal_coke:local_heating:heat_supply:bio_energy:wind_energy:hydro_energy:environmental_thermal_energy:combined_heat_and_power_fossil_fuels'\n",
            " 'natural_gas_light:wood'\n",
            " 'district_heating:local_heating:combined_heat_and_power_renewable_energy'\n",
            " 'pellet_heating:natural_gas_light' 'solar_heating:heat_supply'\n",
            " 'geothermal:solar_heating:pellet_heating:gas' 'gas:heat_supply'\n",
            " 'gas:oil:electricity'\n",
            " 'district_heating:combined_heat_and_power_fossil_fuels:combined_heat_and_power_regenerative_energy'\n",
            " 'pellet_heating:wood:wood_chips' 'solar_heating:liquid_gas'\n",
            " 'geothermal:solar_heating:pellet_heating'\n",
            " 'geothermal:combined_heat_and_power_fossil_fuels'\n",
            " 'district_heating:natural_gas_heavy'\n",
            " 'electricity:coal:natural_gas_light:natural_gas_heavy:liquid_gas:steam_district_heating:wood:wood_chips:coal_coke:local_heating:heat_supply:bio_energy:wind_energy'\n",
            " 'district_heating:wood' 'solar_heating:gas:natural_gas_light'\n",
            " 'district_heating:electricity:natural_gas_heavy'\n",
            " 'natural_gas_heavy:local_heating' 'solar_heating:gas:oil:coal'\n",
            " 'district_heating:wood:bio_energy'\n",
            " 'solar_heating:environmental_thermal_energy'\n",
            " 'geothermal:solar_heating:pellet_heating:district_heating'\n",
            " 'solar_heating:wood_chips' 'district_heating:natural_gas_light'\n",
            " 'gas:oil:district_heating' 'solar_heating:pellet_heating:bio_energy'\n",
            " 'geothermal:wood' 'gas:district_heating:electricity'\n",
            " 'solar_heating:oil:electricity' 'solar_heating:pellet_heating:gas'\n",
            " 'gas:liquid_gas' 'gas:wood_chips'\n",
            " 'gas:oil:district_heating:electricity:coal:natural_gas_light'\n",
            " 'geothermal:solar_heating:gas' 'electricity:wood_chips'\n",
            " 'electricity:coal' 'solar_heating:bio_energy'\n",
            " 'district_heating:hydro_energy']\n",
            "hasKitchen\n",
            "[False  True]\n",
            "geo_bln\n",
            "['Nordrhein_Westfalen' 'Rheinland_Pfalz' 'Sachsen' 'Bremen'\n",
            " 'Schleswig_Holstein' 'Baden_Württemberg' 'Thüringen' 'Hessen'\n",
            " 'Niedersachsen' 'Bayern' 'Hamburg' 'Sachsen_Anhalt'\n",
            " 'Mecklenburg_Vorpommern' 'Berlin' 'Brandenburg' 'Saarland']\n",
            "cellar\n",
            "[ True False]\n",
            "yearConstructedRange\n",
            "[ 2.  1.  9.  5. nan  4.  8.  3.  7.  6.]\n",
            "baseRent\n",
            "[ 595.    800.    965.   ...  371.43  845.22 1255.38]\n",
            "houseNumber\n",
            "['244' nan '4' ... '27-37' '18, EG links' '32 (WE 66)']\n",
            "livingSpace\n",
            "[ 86.    89.    83.8  ... 171.81 135.84 158.35]\n",
            "geo_krs\n",
            "['Dortmund' 'Rhein_Pfalz_Kreis' 'Dresden' 'Mittelsachsen_Kreis' 'Bremen'\n",
            " 'Schleswig_Flensburg_Kreis' 'Emmendingen_Kreis' 'Gelsenkirchen'\n",
            " 'Chemnitz' 'Südliche_Weinstraße_Kreis' 'Hamm' 'Weimar'\n",
            " 'Main_Kinzig_Kreis' 'Duisburg' 'Göttingen_Kreis' 'Neumünster' 'Stuttgart'\n",
            " 'Leipzig' 'München' 'Hamburg' 'Braunschweig' 'Esslingen_Kreis'\n",
            " 'Magdeburg' 'Schwerin' 'Passau' 'Mettmann_Kreis' 'Vogtlandkreis'\n",
            " 'Groß_Gerau_Kreis' 'Sächsische_Schweiz_Osterzgebirge_Kreis'\n",
            " 'Görlitz_Kreis' 'Rheinisch_Bergischer_Kreis' 'Essen' 'Meißen_Kreis'\n",
            " 'Mannheim' 'Wesermarsch_Kreis' 'Hochsauerlandkreis' 'Unna_Kreis'\n",
            " 'Bautzen_Kreis' 'Berlin' 'Frankfurt_am_Main' 'Halle_Saale'\n",
            " 'Steinburg_Kreis' 'Aschaffenburg' 'Oder_Spree_Kreis' 'Bremerhaven'\n",
            " 'Zwickau_Kreis' 'Nordsachsen_Kreis' 'Mansfeld_Südharz_Kreis'\n",
            " 'Alzey_Worms_Kreis' 'Gießen_Kreis' 'Main_Taunus_Kreis' 'Zwickau'\n",
            " 'Wuppertal' 'Viersen_Kreis' 'Düsseldorf' 'Gera' 'Böblingen_Kreis'\n",
            " 'Würzburg' 'Kitzingen_Kreis' 'Stendal_Kreis' 'Nordvorpommern_Kreis'\n",
            " 'Rhein_Erft_Kreis' 'Mülheim_an_der_Ruhr' 'Heilbronn'\n",
            " 'Hersfeld_Rotenburg_Kreis' 'Aachen_Kreis' 'Erzgebirgskreis' 'Baden_Baden'\n",
            " 'Tuttlingen_Kreis' 'Nürnberg' 'Heinsberg_Kreis' 'Remscheid'\n",
            " 'Märkisch_Oderland_Kreis' 'Wiesbaden' 'Wetteraukreis' 'Kassel'\n",
            " 'Bielefeld' 'Salzlandkreis' 'Aachen' 'Harburg_Kreis' 'Höxter_Kreis'\n",
            " 'Germersheim_Kreis' 'Brandenburg_an_der_Havel' 'Leipzig_Kreis'\n",
            " 'Aurich_Kreis' 'Herzogtum_Lauenburg_Kreis' 'Karlsruhe'\n",
            " 'Frankenthal_Pfalz' 'Rheingau_Taunus_Kreis' 'Nordwestmecklenburg_Kreis'\n",
            " 'Ostvorpommern_Kreis' 'Emden' 'Rems_Murr_Kreis' 'Altmarkkreis_Salzwedel'\n",
            " 'Straubing' 'Peine_Kreis' 'Paderborn_Kreis' 'Düren_Kreis'\n",
            " 'Fürstenfeldbruck_Kreis' 'Kiel' 'Unstrut_Hainich_Kreis'\n",
            " 'Ludwigslust_Kreis' 'Flensburg' 'Borken_Kreis' 'Krefeld' 'Lörrach_Kreis'\n",
            " 'Saalekreis' 'Wesel_Kreis' 'Recklinghausen_Kreis' 'Hagen'\n",
            " 'Grafschaft_Bentheim_Kreis' 'Goslar_Kreis' 'Bergstraße_Kreis'\n",
            " 'Börde_Kreis' 'Potsdam' 'Kusel_Kreis' 'Burgenlandkreis'\n",
            " 'Holzminden_Kreis' 'Bad_Doberan_Kreis' 'Biberach_Kreis' 'Coburg' 'Köln'\n",
            " 'Aschaffenburg_Kreis' 'Görlitz' 'Dessau_Roßlau' 'Harz_Kreis'\n",
            " 'Ludwigsburg_Kreis' 'Herne' 'Bad_Dürkheim_Kreis' 'Wittenberg_Kreis'\n",
            " 'Fürth' 'Eichstätt_Kreis' 'Bochum' 'Pfaffenhofen_an_der_Ilm_Kreis'\n",
            " 'Märkischer_Kreis' 'Trier' 'Rhein_Sieg_Kreis' 'Hannover'\n",
            " 'Limburg_Weilburg_Kreis' 'Mönchengladbach' 'Bonn'\n",
            " 'Anhalt_Bitterfeld_Kreis' 'Herford_Kreis' 'Neuss_Rhein_Kreis' 'Plauen'\n",
            " 'Soest_Kreis' 'Erding_Kreis' 'Dahme_Spreewald_Kreis' 'Mainz'\n",
            " 'Kleve_Kreis' 'Reutlingen_Kreis' 'Offenbach_Kreis' 'Segeberg_Kreis'\n",
            " 'Emsland_Kreis' 'Hochtaunuskreis' 'Schwarzwald_Baar_Kreis'\n",
            " 'Oberbergischer_Kreis' 'Wunsiedel_im_Fichtelgebirge_Kreis'\n",
            " 'Hildburghausen_Kreis' 'Wismar' 'Heilbronn_Kreis' 'Hannover_Kreis'\n",
            " 'Pirmasens' 'Schmalkalden_Meiningen_Kreis' 'Ostalbkreis'\n",
            " 'Oldenburg_Oldenburg' 'Mayen_Koblenz_Kreis' 'Ennepe_Ruhr_Kreis'\n",
            " 'Uckermark_Kreis' 'Mainz_Bingen_Kreis' 'Erfurt' 'Helmstedt_Kreis'\n",
            " 'Pinneberg_Kreis' 'Gütersloh_Kreis' 'Starnberg_Kreis'\n",
            " 'Siegen_Wittgenstein_Kreis' 'Fulda_Kreis' 'Würzburg_Kreis'\n",
            " 'Oberspreewald_Lausitz_Kreis' 'Göppingen_Kreis' 'Werra_Meißner_Kreis'\n",
            " 'Lüneburg_Kreis' 'Wilhelmshaven' 'Wolfsburg' 'Northeim_Kreis'\n",
            " 'Rhein_Lahn_Kreis' 'Karlsruhe_Kreis' 'Freising_Kreis' 'Lübeck'\n",
            " 'Minden_Lübbecke_Kreis' 'Rastatt_Kreis' 'Unterallgäu_Kreis' 'Eisenach'\n",
            " 'Spree_Neiße_Kreis' 'Bad_Tölz_Wolfratshausen_Kreis'\n",
            " 'Rendsburg_Eckernförde_Kreis' 'Augsburg'\n",
            " 'Neustadt_a.d._Aisch_Bad_Windsheim_Kreis' 'Oberhavel_Kreis'\n",
            " 'Schwalm_Eder_Kreis' 'Stralsund' 'Prignitz_Kreis' 'Hoyerswerda'\n",
            " 'Straubing_Bogen_Kreis' 'Darmstadt_Dieburg_Kreis' 'Landshut'\n",
            " 'Cochem_Zell_Kreis' 'Bad_Kreuznach_Kreis' 'Solingen' 'Heidelberg' 'Hof'\n",
            " 'Neubrandenburg' 'Osnabrück_Kreis' 'Landshut_Kreis' 'Donau_Ries_Kreis'\n",
            " 'Güstrow_Kreis' 'Plön_Kreis' 'Koblenz' 'Alb_Donau_Kreis'\n",
            " 'Heidenheim_Kreis' 'Bodenseekreis' 'Teltow_Fläming_Kreis'\n",
            " 'Westerwaldkreis' 'Celle_Kreis' 'Potsdam_Mittelmark_Kreis'\n",
            " 'Hildesheim_Kreis' 'Verden_Kreis' 'Rhein_Neckar_Kreis' 'Havelland_Kreis'\n",
            " 'Dachau_Kreis' 'Rotenburg_Wümme_Kreis' 'Ostholstein_Kreis' 'Pforzheim'\n",
            " 'Suhl' 'Stormarn_Kreis' 'Eichsfeld_Kreis' 'Darmstadt' 'Regensburg'\n",
            " 'Nordhausen_Kreis' 'Sonneberg_Kreis' 'Cottbus' 'Forchheim_Kreis'\n",
            " 'Erlangen' 'Nienburg_Weser_Kreis' 'Waldeck_Frankenberg_Kreis'\n",
            " 'Dithmarschen_Kreis' 'Diepholz_Kreis' 'Augsburg_Kreis' 'Deggendorf_Kreis'\n",
            " 'Oberhausen' 'Neustadt_an_der_Weinstraße' 'Münster'\n",
            " 'Osterode_am_Harz_Kreis' 'Freudenstadt_Kreis' 'Marburg_Biedenkopf_Kreis'\n",
            " 'Stade_Kreis' 'Birkenfeld_Kreis' 'Cuxhaven_Kreis' 'Rottal_Inn_Kreis'\n",
            " 'Rügen_Kreis' 'München_Kreis' 'Osnabrück' 'Gotha_Kreis'\n",
            " 'Offenbach_am_Main' 'Stadtverband_Saarbrücken_Kreis' 'Hof_Kreis'\n",
            " 'Kyffhäuserkreis' 'Freiburg_im_Breisgau' 'Ravensburg_Kreis'\n",
            " 'Hameln_Pyrmont_Kreis' 'Saalfeld_Rudolstadt_Kreis' 'Rostock'\n",
            " 'Saarlouis_Kreis' 'Parchim_Kreis' 'Schwäbisch_Hall_Kreis' 'Bamberg_Kreis'\n",
            " 'Weilheim_Schongau_Kreis' 'Lippe_Kreis' 'Müritz_Kreis' 'Steinfurt_Kreis'\n",
            " 'Traunstein_Kreis' 'Ebersberg_Kreis' 'Neuwied_Kreis' 'Kelheim_Kreis'\n",
            " 'Weimarer_Land_Kreis' 'Saarpfalz_Kreis' 'Vechta_Kreis'\n",
            " 'Bitburg_Prüm_Kreis' 'Ahrweiler_Kreis' 'Greifswald' 'Calw_Kreis'\n",
            " 'Gifhorn_Kreis' 'Uelzen_Kreis' 'Altenburger_Land_Kreis' 'Ilm_Kreis'\n",
            " 'Trier_Saarburg_Kreis' 'Lahn_Dill_Kreis' 'Worms'\n",
            " 'Berchtesgadener_Land_Kreis' 'Breisgau_Hochschwarzwald_Kreis'\n",
            " 'Oldenburg_Kreis' 'Barnim_Kreis' 'Erlangen_Höchstadt_Kreis'\n",
            " 'Main_Spessart_Kreis' 'Rosenheim_Kreis' 'Bottrop' 'Ludwigshafen_am_Rhein'\n",
            " 'Elbe_Elster_Kreis' 'Warendorf_Kreis' 'Kassel_Kreis'\n",
            " 'Mecklenburg_Strelitz_Kreis' 'Jerichower_Land_Kreis'\n",
            " 'Lüchow_Dannenberg_Kreis' 'Greiz_Kreis' 'Euskirchen_Kreis'\n",
            " 'Regensburg_Kreis' 'Kaiserslautern_Kreis' 'Salzgitter'\n",
            " 'Weißenburg_Gunzenhausen_Kreis' 'Ulm' 'Altötting_Kreis'\n",
            " 'Landsberg_am_Lech_Kreis' 'Günzburg_Kreis' 'Amberg_Sulzbach_Kreis'\n",
            " 'Wartburgkreis' 'Neu_Ulm_Kreis' 'Lichtenfels_Kreis' 'Friesland_Kreis'\n",
            " 'Tübingen_Kreis' 'Zollernalbkreis' 'Enzkreis' 'Miltenberg_Kreis'\n",
            " 'Kaiserslautern' 'Schaumburg_Kreis' 'Waldshut_Kreis' 'Delmenhorst'\n",
            " 'Bayreuth' 'Jena' 'Sömmerda_Kreis' 'Nordfriesland_Kreis' 'Leer_Kreis'\n",
            " 'Dillingen_an_der_Donau_Kreis' 'Nürnberger_Land_Kreis'\n",
            " 'Ostprignitz_Ruppin_Kreis' 'Ingolstadt' 'Bad_Kissingen_Kreis'\n",
            " 'Saale_Holzland_Kreis' 'Kaufbeuren' 'Speyer' 'Ansbach_Kreis'\n",
            " 'Ammerland_Kreis' 'Rottweil_Kreis' 'Mühldorf_am_Inn_Kreis'\n",
            " 'Weiden_in_der_Oberpfalz' 'Frankfurt_Oder' 'Garmisch_Partenkirchen_Kreis'\n",
            " 'Main_Tauber_Kreis' 'Ostallgäu_Kreis' 'Leverkusen' 'Rosenheim'\n",
            " 'Coburg_Kreis' 'Neumarkt_in_der_Oberpfalz_Kreis'\n",
            " 'Aichach_Friedberg_Kreis' 'Neunkirchen_Kreis' 'Coesfeld_Kreis'\n",
            " 'Lindau_Bodensee_Kreis' 'Ortenaukreis' 'Rhein_Hunsrück_Kreis'\n",
            " 'Osterholz_Kreis' 'Merzig_Wadern_Kreis' 'Heidekreis' 'Wolfenbüttel_Kreis'\n",
            " 'Dingolfing_Landau_Kreis' 'Südwestpfalz_Kreis'\n",
            " 'Bernkastel_Wittlich_Kreis' 'Bayreuth_Kreis' 'Schweinfurt_Kreis'\n",
            " 'Demmin_Kreis' 'Passau_Kreis' 'Miesbach_Kreis' 'Ansbach' 'Konstanz_Kreis'\n",
            " 'Fürth_Kreis' 'Tirschenreuth_Kreis' 'Neckar_Odenwald_Kreis'\n",
            " 'Altenkirchen_Westerwald_Kreis' 'Soltau_Fallingbostel_Kreis'\n",
            " 'Landau_in_der_Pfalz' 'Uecker_Randow_Kreis' 'Zweibrücken'\n",
            " 'Neuburg_Schrobenhausen_Kreis' 'Amberg' 'Donnersbergkreis'\n",
            " 'Cloppenburg_Kreis' 'Hohenlohekreis' 'Roth_Kreis' 'Bamberg' 'Schweinfurt'\n",
            " 'Vulkaneifel_Kreis' 'Vogelsbergkreis' 'Schwandorf_Kreis' 'Cham_Kreis'\n",
            " 'Sigmaringen_Kreis' 'Oberallgäu_Kreis' 'Regen_Kreis' 'Memmingen'\n",
            " 'Kempten_Allgäu' 'Freyung_Grafenau_Kreis' 'Odenwaldkreis' 'Olpe_Kreis'\n",
            " 'Saale_Orla_Kreis' 'Sankt_Wendel_Kreis' 'Kulmbach_Kreis' 'Schwabach'\n",
            " 'Wittmund_Kreis' 'Haßberge_Kreis' 'Rhön_Grabfeld_Kreis' 'Kronach_Kreis'\n",
            " 'Neustadt_a.d._Waldnaab_Kreis']\n",
            "condition\n",
            "['well_kept' 'refurbished' 'first_time_use' nan 'fully_renovated'\n",
            " 'mint_condition' 'first_time_use_after_refurbishment' 'modernized'\n",
            " 'negotiable' 'need_of_renovation' 'ripe_for_demolition']\n",
            "interiorQual\n",
            "['normal' 'sophisticated' nan 'simple' 'luxury']\n",
            "petsAllowed\n",
            "[nan 'no' 'negotiable' 'yes']\n",
            "street\n",
            "['Sch&uuml;ruferstra&szlig;e' 'no_information' 'Turnerweg' ...\n",
            " 'Gundelandst.' 'Emsbachstrasse' 'Robert-Di&szlig;mann-Str.']\n",
            "streetPlain\n",
            "['Schüruferstraße' nan 'Turnerweg' ... 'Gundelandst.' 'Emsbachstrasse'\n",
            " 'Robert-Dißmann-Str.']\n",
            "lift\n",
            "[False  True]\n",
            "baseRentRange\n",
            "[4 5 6 2 3 1 7 8 9]\n",
            "typeOfFlat\n",
            "['ground_floor' 'apartment' 'other' nan 'roof_storey'\n",
            " 'raised_ground_floor' 'terraced_flat' 'half_basement' 'maisonette'\n",
            " 'penthouse' 'loft']\n",
            "geo_plz\n",
            "[44269 67459  1097 ... 74214 84437 82390]\n",
            "noRooms\n",
            "[  4.     3.     2.     2.5    1.     5.     1.5    3.5    4.5    5.5\n",
            "   6.     7.     6.5    8.5    2.1    2.2   99.5    9.     3.1    8.\n",
            "  10.    15.     1.2   12.   200.   140.    13.     3.01  11.    99.\n",
            " 305.    25.     7.5    1.1   22.    45.    50.     3.8   75.5    3.4\n",
            "  23.    80.   999.99  21.     2.01   2.9    4.2    1.3   65.   230.\n",
            "   2.65  18.    30.    14.   160.   560.     2.3   32.   100.     2.7\n",
            "  16.     1.25 120.    79.  ]\n",
            "thermalChar\n",
            "[181.4     nan  86.   ... 104.54 197.44 160.77]\n",
            "floor\n",
            "[  1.  nan   3.   2.   4.   0.   6.   5.  10.   8.  16.  -1.   7.   9.\n",
            "  11.  15.  13.  12.  20. 136.  14.  17.  22.  32.  83.  19.  21.  18.\n",
            "  99.  23.  26.  25.  37. 133. 137. 139. 124.  24.  29. 138. 134.  31.\n",
            "  45.  41. 135.  80.  36. 105.  98. 645. 390. 650. 999. 104.]\n",
            "numberOfFloors\n",
            "[  3.  nan   4.   2.   5.   1.   6.   7.  10.   8.   9.  20.   0.  11.\n",
            "  17.  14.  12.  16.  13.  23.  18.  15.  19.  26.  45.  32.  22.  21.\n",
            "  27.  90. 301.  36. 378. 999.  40.  30.  24.  25.  31.  92.  54.  28.\n",
            " 400.  42. 800.  33.  34. 594.  43.  41. 600. 370.  29. 410.  99. 200.\n",
            " 730. 252.]\n",
            "noRoomsRange\n",
            "[4 3 2 1 5]\n",
            "garden\n",
            "[ True False]\n",
            "livingSpaceRange\n",
            "[4 2 3 1 6 7 5]\n",
            "regio2\n",
            "['Dortmund' 'Rhein_Pfalz_Kreis' 'Dresden' 'Mittelsachsen_Kreis' 'Bremen'\n",
            " 'Schleswig_Flensburg_Kreis' 'Emmendingen_Kreis' 'Gelsenkirchen'\n",
            " 'Chemnitz' 'Südliche_Weinstraße_Kreis' 'Hamm' 'Weimar'\n",
            " 'Main_Kinzig_Kreis' 'Duisburg' 'Göttingen_Kreis' 'Neumünster' 'Stuttgart'\n",
            " 'Leipzig' 'München' 'Hamburg' 'Braunschweig' 'Esslingen_Kreis'\n",
            " 'Magdeburg' 'Schwerin' 'Passau' 'Mettmann_Kreis' 'Vogtlandkreis'\n",
            " 'Groß_Gerau_Kreis' 'Sächsische_Schweiz_Osterzgebirge_Kreis'\n",
            " 'Görlitz_Kreis' 'Rheinisch_Bergischer_Kreis' 'Essen' 'Meißen_Kreis'\n",
            " 'Mannheim' 'Wesermarsch_Kreis' 'Hochsauerlandkreis' 'Unna_Kreis'\n",
            " 'Bautzen_Kreis' 'Berlin' 'Frankfurt_am_Main' 'Halle_Saale'\n",
            " 'Steinburg_Kreis' 'Aschaffenburg' 'Oder_Spree_Kreis' 'Bremerhaven'\n",
            " 'Zwickau_Kreis' 'Nordsachsen_Kreis' 'Mansfeld_Südharz_Kreis'\n",
            " 'Alzey_Worms_Kreis' 'Gießen_Kreis' 'Main_Taunus_Kreis' 'Zwickau'\n",
            " 'Wuppertal' 'Viersen_Kreis' 'Düsseldorf' 'Gera' 'Böblingen_Kreis'\n",
            " 'Würzburg' 'Kitzingen_Kreis' 'Stendal_Kreis' 'Nordvorpommern_Kreis'\n",
            " 'Rhein_Erft_Kreis' 'Mülheim_an_der_Ruhr' 'Heilbronn'\n",
            " 'Hersfeld_Rotenburg_Kreis' 'Aachen_Kreis' 'Erzgebirgskreis' 'Baden_Baden'\n",
            " 'Tuttlingen_Kreis' 'Nürnberg' 'Heinsberg_Kreis' 'Remscheid'\n",
            " 'Märkisch_Oderland_Kreis' 'Wiesbaden' 'Wetteraukreis' 'Kassel'\n",
            " 'Bielefeld' 'Salzlandkreis' 'Aachen' 'Harburg_Kreis' 'Höxter_Kreis'\n",
            " 'Germersheim_Kreis' 'Brandenburg_an_der_Havel' 'Leipzig_Kreis'\n",
            " 'Aurich_Kreis' 'Herzogtum_Lauenburg_Kreis' 'Karlsruhe'\n",
            " 'Frankenthal_Pfalz' 'Rheingau_Taunus_Kreis' 'Nordwestmecklenburg_Kreis'\n",
            " 'Ostvorpommern_Kreis' 'Emden' 'Rems_Murr_Kreis' 'Altmarkkreis_Salzwedel'\n",
            " 'Straubing' 'Peine_Kreis' 'Paderborn_Kreis' 'Düren_Kreis'\n",
            " 'Fürstenfeldbruck_Kreis' 'Kiel' 'Unstrut_Hainich_Kreis'\n",
            " 'Ludwigslust_Kreis' 'Flensburg' 'Borken_Kreis' 'Krefeld' 'Lörrach_Kreis'\n",
            " 'Saalekreis' 'Wesel_Kreis' 'Recklinghausen_Kreis' 'Hagen'\n",
            " 'Grafschaft_Bentheim_Kreis' 'Goslar_Kreis' 'Bergstraße_Kreis'\n",
            " 'Börde_Kreis' 'Potsdam' 'Kusel_Kreis' 'Burgenlandkreis'\n",
            " 'Holzminden_Kreis' 'Bad_Doberan_Kreis' 'Biberach_Kreis' 'Coburg' 'Köln'\n",
            " 'Aschaffenburg_Kreis' 'Görlitz' 'Dessau_Roßlau' 'Harz_Kreis'\n",
            " 'Ludwigsburg_Kreis' 'Herne' 'Bad_Dürkheim_Kreis' 'Wittenberg_Kreis'\n",
            " 'Fürth' 'Eichstätt_Kreis' 'Bochum' 'Pfaffenhofen_an_der_Ilm_Kreis'\n",
            " 'Märkischer_Kreis' 'Trier' 'Rhein_Sieg_Kreis' 'Hannover'\n",
            " 'Limburg_Weilburg_Kreis' 'Mönchengladbach' 'Bonn'\n",
            " 'Anhalt_Bitterfeld_Kreis' 'Herford_Kreis' 'Neuss_Rhein_Kreis' 'Plauen'\n",
            " 'Soest_Kreis' 'Erding_Kreis' 'Dahme_Spreewald_Kreis' 'Mainz'\n",
            " 'Kleve_Kreis' 'Reutlingen_Kreis' 'Offenbach_Kreis' 'Segeberg_Kreis'\n",
            " 'Emsland_Kreis' 'Hochtaunuskreis' 'Schwarzwald_Baar_Kreis'\n",
            " 'Oberbergischer_Kreis' 'Wunsiedel_im_Fichtelgebirge_Kreis'\n",
            " 'Hildburghausen_Kreis' 'Wismar' 'Heilbronn_Kreis' 'Hannover_Kreis'\n",
            " 'Pirmasens' 'Schmalkalden_Meiningen_Kreis' 'Ostalbkreis'\n",
            " 'Oldenburg_Oldenburg' 'Mayen_Koblenz_Kreis' 'Ennepe_Ruhr_Kreis'\n",
            " 'Uckermark_Kreis' 'Mainz_Bingen_Kreis' 'Erfurt' 'Helmstedt_Kreis'\n",
            " 'Pinneberg_Kreis' 'Gütersloh_Kreis' 'Starnberg_Kreis'\n",
            " 'Siegen_Wittgenstein_Kreis' 'Fulda_Kreis' 'Würzburg_Kreis'\n",
            " 'Oberspreewald_Lausitz_Kreis' 'Göppingen_Kreis' 'Werra_Meißner_Kreis'\n",
            " 'Lüneburg_Kreis' 'Wilhelmshaven' 'Wolfsburg' 'Northeim_Kreis'\n",
            " 'Rhein_Lahn_Kreis' 'Karlsruhe_Kreis' 'Freising_Kreis' 'Lübeck'\n",
            " 'Minden_Lübbecke_Kreis' 'Rastatt_Kreis' 'Unterallgäu_Kreis' 'Eisenach'\n",
            " 'Spree_Neiße_Kreis' 'Bad_Tölz_Wolfratshausen_Kreis'\n",
            " 'Rendsburg_Eckernförde_Kreis' 'Augsburg'\n",
            " 'Neustadt_a.d._Aisch_Bad_Windsheim_Kreis' 'Oberhavel_Kreis'\n",
            " 'Schwalm_Eder_Kreis' 'Stralsund' 'Prignitz_Kreis' 'Hoyerswerda'\n",
            " 'Straubing_Bogen_Kreis' 'Darmstadt_Dieburg_Kreis' 'Landshut'\n",
            " 'Cochem_Zell_Kreis' 'Bad_Kreuznach_Kreis' 'Solingen' 'Heidelberg' 'Hof'\n",
            " 'Neubrandenburg' 'Osnabrück_Kreis' 'Landshut_Kreis' 'Donau_Ries_Kreis'\n",
            " 'Güstrow_Kreis' 'Plön_Kreis' 'Koblenz' 'Alb_Donau_Kreis'\n",
            " 'Heidenheim_Kreis' 'Bodenseekreis' 'Teltow_Fläming_Kreis'\n",
            " 'Westerwaldkreis' 'Celle_Kreis' 'Potsdam_Mittelmark_Kreis'\n",
            " 'Hildesheim_Kreis' 'Verden_Kreis' 'Rhein_Neckar_Kreis' 'Havelland_Kreis'\n",
            " 'Dachau_Kreis' 'Rotenburg_Wümme_Kreis' 'Ostholstein_Kreis' 'Pforzheim'\n",
            " 'Suhl' 'Stormarn_Kreis' 'Eichsfeld_Kreis' 'Darmstadt' 'Regensburg'\n",
            " 'Nordhausen_Kreis' 'Sonneberg_Kreis' 'Cottbus' 'Forchheim_Kreis'\n",
            " 'Erlangen' 'Nienburg_Weser_Kreis' 'Waldeck_Frankenberg_Kreis'\n",
            " 'Dithmarschen_Kreis' 'Diepholz_Kreis' 'Augsburg_Kreis' 'Deggendorf_Kreis'\n",
            " 'Oberhausen' 'Neustadt_an_der_Weinstraße' 'Münster'\n",
            " 'Osterode_am_Harz_Kreis' 'Freudenstadt_Kreis' 'Marburg_Biedenkopf_Kreis'\n",
            " 'Stade_Kreis' 'Birkenfeld_Kreis' 'Cuxhaven_Kreis' 'Rottal_Inn_Kreis'\n",
            " 'Rügen_Kreis' 'München_Kreis' 'Osnabrück' 'Gotha_Kreis'\n",
            " 'Offenbach_am_Main' 'Stadtverband_Saarbrücken_Kreis' 'Hof_Kreis'\n",
            " 'Kyffhäuserkreis' 'Freiburg_im_Breisgau' 'Ravensburg_Kreis'\n",
            " 'Hameln_Pyrmont_Kreis' 'Saalfeld_Rudolstadt_Kreis' 'Rostock'\n",
            " 'Saarlouis_Kreis' 'Parchim_Kreis' 'Schwäbisch_Hall_Kreis' 'Bamberg_Kreis'\n",
            " 'Weilheim_Schongau_Kreis' 'Lippe_Kreis' 'Müritz_Kreis' 'Steinfurt_Kreis'\n",
            " 'Traunstein_Kreis' 'Ebersberg_Kreis' 'Neuwied_Kreis' 'Kelheim_Kreis'\n",
            " 'Weimarer_Land_Kreis' 'Saarpfalz_Kreis' 'Vechta_Kreis'\n",
            " 'Bitburg_Prüm_Kreis' 'Ahrweiler_Kreis' 'Greifswald' 'Calw_Kreis'\n",
            " 'Gifhorn_Kreis' 'Uelzen_Kreis' 'Altenburger_Land_Kreis' 'Ilm_Kreis'\n",
            " 'Trier_Saarburg_Kreis' 'Lahn_Dill_Kreis' 'Worms'\n",
            " 'Berchtesgadener_Land_Kreis' 'Breisgau_Hochschwarzwald_Kreis'\n",
            " 'Oldenburg_Kreis' 'Barnim_Kreis' 'Erlangen_Höchstadt_Kreis'\n",
            " 'Main_Spessart_Kreis' 'Rosenheim_Kreis' 'Bottrop' 'Ludwigshafen_am_Rhein'\n",
            " 'Elbe_Elster_Kreis' 'Warendorf_Kreis' 'Kassel_Kreis'\n",
            " 'Mecklenburg_Strelitz_Kreis' 'Jerichower_Land_Kreis'\n",
            " 'Lüchow_Dannenberg_Kreis' 'Greiz_Kreis' 'Euskirchen_Kreis'\n",
            " 'Regensburg_Kreis' 'Kaiserslautern_Kreis' 'Salzgitter'\n",
            " 'Weißenburg_Gunzenhausen_Kreis' 'Ulm' 'Altötting_Kreis'\n",
            " 'Landsberg_am_Lech_Kreis' 'Günzburg_Kreis' 'Amberg_Sulzbach_Kreis'\n",
            " 'Wartburgkreis' 'Neu_Ulm_Kreis' 'Lichtenfels_Kreis' 'Friesland_Kreis'\n",
            " 'Tübingen_Kreis' 'Zollernalbkreis' 'Enzkreis' 'Miltenberg_Kreis'\n",
            " 'Kaiserslautern' 'Schaumburg_Kreis' 'Waldshut_Kreis' 'Delmenhorst'\n",
            " 'Bayreuth' 'Jena' 'Sömmerda_Kreis' 'Nordfriesland_Kreis' 'Leer_Kreis'\n",
            " 'Dillingen_an_der_Donau_Kreis' 'Nürnberger_Land_Kreis'\n",
            " 'Ostprignitz_Ruppin_Kreis' 'Ingolstadt' 'Bad_Kissingen_Kreis'\n",
            " 'Saale_Holzland_Kreis' 'Kaufbeuren' 'Speyer' 'Ansbach_Kreis'\n",
            " 'Ammerland_Kreis' 'Rottweil_Kreis' 'Mühldorf_am_Inn_Kreis'\n",
            " 'Weiden_in_der_Oberpfalz' 'Frankfurt_Oder' 'Garmisch_Partenkirchen_Kreis'\n",
            " 'Main_Tauber_Kreis' 'Ostallgäu_Kreis' 'Leverkusen' 'Rosenheim'\n",
            " 'Coburg_Kreis' 'Neumarkt_in_der_Oberpfalz_Kreis'\n",
            " 'Aichach_Friedberg_Kreis' 'Neunkirchen_Kreis' 'Coesfeld_Kreis'\n",
            " 'Lindau_Bodensee_Kreis' 'Ortenaukreis' 'Rhein_Hunsrück_Kreis'\n",
            " 'Osterholz_Kreis' 'Merzig_Wadern_Kreis' 'Heidekreis' 'Wolfenbüttel_Kreis'\n",
            " 'Dingolfing_Landau_Kreis' 'Südwestpfalz_Kreis'\n",
            " 'Bernkastel_Wittlich_Kreis' 'Bayreuth_Kreis' 'Schweinfurt_Kreis'\n",
            " 'Demmin_Kreis' 'Passau_Kreis' 'Miesbach_Kreis' 'Ansbach' 'Konstanz_Kreis'\n",
            " 'Fürth_Kreis' 'Tirschenreuth_Kreis' 'Neckar_Odenwald_Kreis'\n",
            " 'Altenkirchen_Westerwald_Kreis' 'Soltau_Fallingbostel_Kreis'\n",
            " 'Landau_in_der_Pfalz' 'Uecker_Randow_Kreis' 'Zweibrücken'\n",
            " 'Neuburg_Schrobenhausen_Kreis' 'Amberg' 'Donnersbergkreis'\n",
            " 'Cloppenburg_Kreis' 'Hohenlohekreis' 'Roth_Kreis' 'Bamberg' 'Schweinfurt'\n",
            " 'Vulkaneifel_Kreis' 'Vogelsbergkreis' 'Schwandorf_Kreis' 'Cham_Kreis'\n",
            " 'Sigmaringen_Kreis' 'Oberallgäu_Kreis' 'Regen_Kreis' 'Memmingen'\n",
            " 'Kempten_Allgäu' 'Freyung_Grafenau_Kreis' 'Odenwaldkreis' 'Olpe_Kreis'\n",
            " 'Saale_Orla_Kreis' 'Sankt_Wendel_Kreis' 'Kulmbach_Kreis' 'Schwabach'\n",
            " 'Wittmund_Kreis' 'Haßberge_Kreis' 'Rhön_Grabfeld_Kreis' 'Kronach_Kreis'\n",
            " 'Neustadt_a.d._Waldnaab_Kreis']\n",
            "regio3\n",
            "['Schüren' 'Böhl_Iggelheim' 'Äußere_Neustadt_Antonstadt' ... 'Blankensee'\n",
            " 'Ovelgönne' 'Eberfing']\n",
            "description\n",
            "['Die ebenerdig zu erreichende Erdgeschosswohnung befindet sich in einem gepflegten 8-Familienhaus. Aufgrund der Hanglage bietet sich ein unverbaubarer Blick ins Grüne.'\n",
            " 'Alles neu macht der Mai – so kann es auch für Sie in 2019 sein! Genießen Sie das „reine“ Gefühl und die „Unberührtheit“, die diese Wohnung nach der Kernsanierung bietet.\\n\\nSie verfügt über eine Wohnfläche von ca. 89 m² und einen äußerst gelungenen Grundriss.\\n\\nAufgeteilt ist die Wohnung in einen großzügigen Wohn-Essbereich, eine Küche, ein Schlafzimmer, ein Kinder- oder Arbeitszimmer, ein Bad, ein Gäste-WC und einen Flur.\\n\\nVon der Küche aus haben Sie direkten Zugang zum Balkon, der zum gemütlichen Verweilen und Entspannen einlädt.\\n\\nDas Badezimmer ist ausgestattet mit Dusche, Toilette, Waschbecken und praktischem Handtuchheizkörper. Zudem gibt es hier jeweils einen Anschluss für die Waschmaschine und für den Trockner.\\n\\nSämtliche Räume in der Wohnung sind lichtdurchflutet, freundlich und einladend, verstärkt durch die weißen, doppelt verglasten Alufenster und die weißen Wände. \\n\\nDie Böden sind mit pflegeleichtem Vinyl-Boden und Fliesen ausgelegt und somit auch für Allergiker geeignet.\\n\\nBeheizt wird die Wohnung mittels einer neuen, energieeffizienten Gas-Etagenheizung der Firma Vaillant. \\n\\nIm Keller steht allen Mietern ein gemeinschaftlicher Raum zur Verfügung, der für zusätzlichen Stauraum sorgt.\\n\\nAbgerundet wird dieses tolle Angebot durch 2 Stellplätze, auf dem Sie Ihre Fahrzeuge stets sicher und ohne Parkplatzsuche parken können.\\n\\n\\nWir werden uns bemühen Ihre Anfrage so rasch als möglich zu beantworten, bitte haben Sie jedoch Verständnis, wenn dies 1-2 Werktage in Anspruch nehmen kann!'\n",
            " 'Der Neubau entsteht im Herzen der Dresdner Neustadt.\\nDas Baugrundstück befindet sich inmitten einer sehr gefragten Lage.\\nNicht nur die zentrale Lage und die schnelle öffentliche\\nVerkehrsanbindung durch den zu Fuß erreichbaren Bahnhof, wie auch Nahverkehrsanbindung, sondern auch die Architektur werden diesen\\nNeubaukomplex zu einem weiteren Highlight am Dresdner Wohnungsmarkt machen.\\nHier entstehen 2- bis 4-Raum Wohnungen mit Wohnflächen zwischen 43 m² und 124 m². Jede Wohnung verfügt über eine Terrasse oder einen Balkon, die Erdgeschosswohnungen erhalten zusätzlich einen Gartenanteil. Die Räumlichkeiten bieten großzügig durchdachte, lichtdurchflutete Räume mit effektiv geschnittenen Grundrissen.'\n",
            " ...\n",
            " 'Hier wird eine Wohnung im 2 Familienhaus angeboten.\\nDie Wohung liegt in der Nordweststadt.'\n",
            " 'gemütliche 4-Zimmer-Wohnung im Obergeschoss eines 2-Familienhauses, Wohnzimmer mit Balkonausgang, 2 Schlafräume, Arbeitszimmer oder sep. Esszimmer, Tageslichtbad mit Dusche, sep. WC, Küche, Kellerraum, Waschküche mit Gartenausgang, 770 m² Grundstück, Gartenmitbenutzung, Garage mit Funktor.'\n",
            " 'Schöne, helle, gut geschnittene und teilmöblierte Drei-Zimmer-Wohnung in gepflegter Wohnanlage.\\nBalkon, Einbauküche und Wannenbad. Schöne Aussicht auf Frankfurter Skyline und Taunus.']\n",
            "facilities\n",
            "['Die Wohnung ist mit Laminat ausgelegt. Das Badezimmer ist gefliest und verfügt über eine Wannendusche. Neue weiße Zimmertüren, ein Fliesenspiegel in der Küche und Fußleisten wurden kürzlich eingebaut.\\nZur Wohnung gehört ein 10 m großer Keller. Eine Garage kann optional mitgemietet werden.'\n",
            " nan\n",
            " '* 9 m² Balkon\\n* Bad mit bodengleicher Dusche, Badewanne und Fenster\\n* Gäste-WC\\n* Waschmaschinenanschluss im Bad und im Waschkeller\\n* Abstell\\n* Fußbodenheizung\\n* Fliesen & Echtholzparkett\\n* elektrische Rollläden\\n* Videotürsprechanlage mit Farbdisplay\\n* Aufzug\\n* KfW-Effizienshaus 55\\n* Tiefgaragenstellplatz (Miete bereits in der Gesamtmiete enthalten)\\n\\n~ Der Mietbeginn: ca. Anfang 2020\\n~ Baustelle: Betreten verboten! Besichtigungen noch nicht möglich!'\n",
            " ... 'Parkett, Kamin, Badewanne&Dusche\\nGroßer Balkon, Einbauküche'\n",
            " 'Böden: Wohn-/Schlafbereich = Laminat, Küche + Flur = Linoleum, Bad = Fliesen. Zentrale SAT-Anlage mit Anschlußmöglichkeiten in allen Zimmern. Das Haus wurde komplett mit einem Vollwärmeschutz versehen. Neue Zentralheizung im Frühjahr 2019 installiert. Die vorhandene Einbauküche mit Geräten kann auf Wunsch vom Vormieter übernommen werden.'\n",
            " 'Balkon, Keller, Fahrstuhl, Vollbad, Einbauküche, Laminat\\n\\nBemerkungen:\\nWohn- und Esszimmer: Couch und Couchtisch(anders als im Bild), Esstisch und Stühle\\nKüche: Einbauküche mit Backofen, Kühl- und Gefrierschrank, kochfeld, Dunstabzug\\nElternzimmer: Bett 180cmx200cm wie in Bild, Kleiderschrank 250cm breit wie im Bild, zwei Nachttische und zwei Kommoden.\\nKinderzimmer: Bett 140cmx 200cm und Schreibtisch und Stuhl.']\n",
            "heatingCosts\n",
            "[   nan  87.23  44.   ...  43.82 100.33 112.13]\n",
            "energyEfficiencyClass\n",
            "[nan 'B' 'E' 'NO_INFORMATION' 'C' 'F' 'D' 'G' 'A' 'A_PLUS' 'H']\n",
            "lastRefurbish\n",
            "[  nan 2019. 2012. 2018. 1996. 2015. 1998. 1997. 2014. 2017. 2000. 2003.\n",
            " 2005. 2016. 1995. 2020. 2001. 2007. 2011. 1994. 1999. 2009. 1992. 2013.\n",
            " 2006. 2010. 1980. 2004. 2008. 2002. 1985. 1990. 1993. 1982. 1989. 1991.\n",
            " 1966. 1967. 1976. 1988. 1900. 1978. 1984. 1971. 1963. 2919. 1970. 1905.\n",
            " 1903. 1986. 1954. 1983. 1974. 1951. 1973. 1981. 1987. 1969. 1979. 1950.\n",
            " 1977. 1955. 1960. 1919. 1975. 1961. 1972. 1867. 1968. 1964. 1956. 2021.\n",
            " 1965. 1893. 2917. 2918. 2916. 1958. 1910. 1957. 2115. 1920. 2118. 1914.\n",
            " 2145. 1898. 2107. 1015. 1918.]\n",
            "electricityBasePrice\n",
            "[  nan 90.76 71.43]\n",
            "electricityKwhPrice\n",
            "[   nan 0.1915 0.2055 0.1985 0.1845 0.2265 0.2137 0.2074 0.1775 0.1705\n",
            " 0.2125 0.2276 0.2144 0.2205 0.2132 0.2195]\n",
            "date\n",
            "['May19' 'Oct19' 'Feb20' 'Sep18']\n"
          ]
        }
      ],
      "source": [
        "for col in data:\n",
        "  print(col)\n",
        "  print(pd.unique(data[col]))"
      ]
    },
    {
      "cell_type": "code",
      "source": [
        "data['scoutId'].duplicated().any()\n",
        "#no duplicates"
      ],
      "metadata": {
        "colab": {
          "base_uri": "https://localhost:8080/"
        },
        "id": "25K1yDYBtnrC",
        "outputId": "083e9f19-20a3-4929-c7f7-1a0d6ed370c6"
      },
      "execution_count": null,
      "outputs": [
        {
          "output_type": "execute_result",
          "data": {
            "text/plain": [
              "False"
            ]
          },
          "metadata": {},
          "execution_count": 372
        }
      ]
    },
    {
      "cell_type": "code",
      "source": [
        "\"\"\"\n",
        "We will drop this atributes:\n",
        "\n",
        "telekomTvOffer: Is payed TV included? If so, which offer?\n",
        "  categorical - 3. labels (with nan)\n",
        "\n",
        "telekomHybridUploadSpeed: How fast is the hybrid inter upload speed?\n",
        "  without influence\n",
        "\n",
        "picturecount: How many pictures were uploaded to the listing?\n",
        "  without influence (numerical from 1 to >100\n",
        "\n",
        "pricetrend: Price trend as calculated by Immoscout\n",
        "  without influence and description how it was calculated\n",
        "\n",
        "telekomUploadSpeed: How fast is the internet upload speed?\n",
        "  without influence\n",
        "\n",
        "scoutId: Immoscout Id\n",
        "\n",
        "firingTypes: Main energy sources, separated by colon\n",
        "\n",
        "yearConstructedRange: Binned construction year, 1 to 9\n",
        "  no inforation about criteria, why and how it was binned\n",
        "\n",
        "houseNumber: House number\n",
        "  without influence\n",
        "\n",
        "street: Street name\n",
        "  without influence\n",
        "\n",
        "streetPlain: Street name (plain, different formating)\n",
        "  without influence\n",
        "\n",
        "baseRentRange: Binned base rent, 1 to 9\n",
        "  no inforation about criteria, why and how it was binned\n",
        "\n",
        "noRoomsRange: Binned number of rooms, 1 to 5\n",
        "  no inforation about criteria, why and how it was binned\n",
        "\n",
        "livingSpaceRange: Binned living space, 1 to 7\n",
        "  no inforation about criteria, why and how it was binned\n",
        "\n",
        "description: Free text description of the object\n",
        "  without influence\n",
        "\n",
        "facilities: Free text description about available facilities\n",
        "  free text is not good source, other atributes describes it in same way\n",
        "\n",
        "energyEfficiencyClass: Energy efficiency class (based on binned thermalChar, deprecated since Feb 2020)\n",
        "  without influence\n",
        "\n",
        "electricityBasePrice: Monthly base price for electricity in € (deprecated since Feb 2020)\n",
        "  3 values (with nan) - without influence\n",
        "\n",
        "electricityKwhPrice: Electricity price per kwh (deprecated since Feb 2020)\n",
        "  without influence\n",
        "\n",
        "date: Time of scraping\n",
        "  this model don't explore changing of price in time\n",
        "\"\"\""
      ],
      "metadata": {
        "colab": {
          "base_uri": "https://localhost:8080/",
          "height": 105
        },
        "id": "jOmnFuT88PNn",
        "outputId": "32ceb51b-784a-4202-ed94-f93685f971b8"
      },
      "execution_count": null,
      "outputs": [
        {
          "output_type": "execute_result",
          "data": {
            "text/plain": [
              "\"\\nWe will drop this atributes:\\n\\ntelekomTvOffer: Is payed TV included? If so, which offer?\\n  categorical - 3. labels (with nan)\\n\\ntelekomHybridUploadSpeed: How fast is the hybrid inter upload speed?\\n  without influence\\n\\npicturecount: How many pictures were uploaded to the listing?\\n  without influence (numerical from 1 to >100\\n\\npricetrend: Price trend as calculated by Immoscout\\n  without influence and description how it was calculated\\n\\ntelekomUploadSpeed: How fast is the internet upload speed?\\n  without influence\\n\\nscoutId: Immoscout Id\\n\\nfiringTypes: Main energy sources, separated by colon\\n\\nyearConstructedRange: Binned construction year, 1 to 9\\n  no inforation about criteria, why and how it was binned\\n\\nhouseNumber: House number\\n  without influence\\n\\nstreet: Street name\\n  without influence\\n\\nstreetPlain: Street name (plain, different formating)\\n  without influence\\n\\nbaseRentRange: Binned base rent, 1 to 9\\n  no inforation about criteria, why and how it was binned\\n\\nnoRoomsRange: Binned number of rooms, 1 to 5\\n  no inforation about criteria, why and how it was binned\\n\\nlivingSpaceRange: Binned living space, 1 to 7\\n  no inforation about criteria, why and how it was binned\\n\\ndescription: Free text description of the object\\n  without influence\\n\\nfacilities: Free text description about available facilities\\n  free text is not good source, other atributes describes it in same way\\n\\nenergyEfficiencyClass: Energy efficiency class (based on binned thermalChar, deprecated since Feb 2020)\\n  without influence\\n\\nelectricityBasePrice: Monthly base price for electricity in € (deprecated since Feb 2020)\\n  3 values (with nan) - without influence\\n\\nelectricityKwhPrice: Electricity price per kwh (deprecated since Feb 2020)\\n  without influence\\n\\ndate: Time of scraping\\n  this model don't explore changing of price in time\\n\""
            ],
            "application/vnd.google.colaboratory.intrinsic+json": {
              "type": "string"
            }
          },
          "metadata": {},
          "execution_count": 373
        }
      ]
    },
    {
      "cell_type": "code",
      "source": [
        "useless_columns = [\"telekomTvOffer\", \n",
        "                   \"telekomHybridUploadSpeed\", \n",
        "                   \"picturecount\", \n",
        "                   \"pricetrend\", \n",
        "                   \"telekomUploadSpeed\",  \n",
        "                   \"scoutId\",\n",
        "                   \"yearConstructedRange\",\n",
        "                   \"houseNumber\",\n",
        "                   \"street\",\n",
        "                   \"streetPlain\",\n",
        "                   \"baseRentRange\",\n",
        "                   \"noRoomsRange\",\n",
        "                   \"firingTypes\",\n",
        "                   \"livingSpaceRange\",\n",
        "                   \"description\",\n",
        "                   \"facilities\",\n",
        "                   \"energyEfficiencyClass\",\n",
        "                   \"electricityBasePrice\",\n",
        "                   \"electricityKwhPrice\",\n",
        "                   \"date\",\n",
        "                   'geo_krs',\n",
        "                   'geo_bln',\n",
        "                   'regio2',\n",
        "                   'regio3'\n",
        "                   ]\n",
        "#drop 24 useless columns\n",
        "data = data.drop(columns=useless_columns)"
      ],
      "metadata": {
        "id": "KiRHuKBfcpLy"
      },
      "execution_count": null,
      "outputs": []
    },
    {
      "cell_type": "code",
      "source": [
        "#totalRent = baseRent + serviceCharge\n",
        "check_total_rent = data[{'baseRent', 'serviceCharge', 'totalRent'}]\n",
        "check_total_rent.isna().sum()"
      ],
      "metadata": {
        "id": "LEHuHF0K1uP6",
        "colab": {
          "base_uri": "https://localhost:8080/"
        },
        "outputId": "4754ee79-1337-4c4d-d06b-8d06da463bed"
      },
      "execution_count": null,
      "outputs": [
        {
          "output_type": "execute_result",
          "data": {
            "text/plain": [
              "baseRent             0\n",
              "serviceCharge     6909\n",
              "totalRent        40517\n",
              "dtype: int64"
            ]
          },
          "metadata": {},
          "execution_count": 375
        }
      ]
    },
    {
      "cell_type": "code",
      "source": [
        "RentsRowsByNA = pd.DataFrame(check_total_rent.isnull().sum(axis=1))\n",
        "RentsRowsByNA.groupby([0])[0].count()/len(check_total_rent)*100"
      ],
      "metadata": {
        "colab": {
          "base_uri": "https://localhost:8080/"
        },
        "id": "-092sB5UwaKk",
        "outputId": "5da1fea6-e3e9-40b8-a077-11c42eaae8d5"
      },
      "execution_count": null,
      "outputs": [
        {
          "output_type": "execute_result",
          "data": {
            "text/plain": [
              "0\n",
              "0    83.40822\n",
              "1    15.54324\n",
              "2     1.04854\n",
              "Name: 0, dtype: float64"
            ]
          },
          "metadata": {},
          "execution_count": 376
        }
      ]
    },
    {
      "cell_type": "code",
      "source": [
        "#if sum of baseRent and serviceCharge devided by totalprice is 1, it means we can completed empt rows\n",
        "check_total_rent = check_total_rent.dropna() \n",
        "check_total_rent['sum_check'] = check_total_rent['baseRent'] + check_total_rent['serviceCharge']\n",
        "check_total_rent['sum_check'] = check_total_rent['sum_check'] / check_total_rent['totalRent']\n",
        "\n",
        "check_total_rent['sum_check'].round(2).value_counts(0)* 100 / len(check_total_rent)\n",
        "\n",
        "#unfortunatly, we will not find coefitiens beetwen this two atributes"
      ],
      "metadata": {
        "colab": {
          "base_uri": "https://localhost:8080/"
        },
        "id": "-XSBdLnDwuRl",
        "outputId": "f815eb96-2bbd-4fb6-984d-cbc5262a96a3"
      },
      "execution_count": null,
      "outputs": [
        {
          "output_type": "stream",
          "name": "stderr",
          "text": [
            "<ipython-input-427-0c85ea43a0a3>:3: SettingWithCopyWarning: \n",
            "A value is trying to be set on a copy of a slice from a DataFrame.\n",
            "Try using .loc[row_indexer,col_indexer] = value instead\n",
            "\n",
            "See the caveats in the documentation: https://pandas.pydata.org/pandas-docs/stable/user_guide/indexing.html#returning-a-view-versus-a-copy\n",
            "  check_total_rent['sum_check'] = check_total_rent['baseRent'] + check_total_rent['serviceCharge']\n",
            "<ipython-input-427-0c85ea43a0a3>:4: SettingWithCopyWarning: \n",
            "A value is trying to be set on a copy of a slice from a DataFrame.\n",
            "Try using .loc[row_indexer,col_indexer] = value instead\n",
            "\n",
            "See the caveats in the documentation: https://pandas.pydata.org/pandas-docs/stable/user_guide/indexing.html#returning-a-view-versus-a-copy\n",
            "  check_total_rent['sum_check'] = check_total_rent['sum_check'] / check_total_rent['totalRent']\n"
          ]
        },
        {
          "output_type": "execute_result",
          "data": {
            "text/plain": [
              "1.00      68.775726\n",
              "0.86       2.087951\n",
              "0.88       2.022842\n",
              "0.87       2.007679\n",
              "0.89       1.955503\n",
              "            ...    \n",
              "0.42       0.000446\n",
              "350.00     0.000446\n",
              "7.42       0.000446\n",
              "1.82       0.000446\n",
              "5.50       0.000446\n",
              "Name: sum_check, Length: 247, dtype: float64"
            ]
          },
          "metadata": {},
          "execution_count": 427
        }
      ]
    },
    {
      "cell_type": "code",
      "source": [
        "check_total_rent['sum_check'].round(1).value_counts()"
      ],
      "metadata": {
        "colab": {
          "base_uri": "https://localhost:8080/"
        },
        "id": "Q6aq51b4w0iZ",
        "outputId": "8acb16ba-4b89-4c72-e1cb-e879fb823822"
      },
      "execution_count": null,
      "outputs": [
        {
          "output_type": "execute_result",
          "data": {
            "text/plain": [
              "1.0      164043\n",
              "0.9       40816\n",
              "0.8       16414\n",
              "1.1         749\n",
              "0.7         736\n",
              "          ...  \n",
              "3.2           1\n",
              "9.0           1\n",
              "5.1           1\n",
              "90.0          1\n",
              "123.3         1\n",
              "Name: sum_check, Length: 97, dtype: int64"
            ]
          },
          "metadata": {},
          "execution_count": 378
        }
      ]
    },
    {
      "cell_type": "code",
      "source": [
        "#now we see that ~15% of rows have na value in serviceCharge or totalRent, ~1% of rows have 2 na values in price variables\n",
        "#rows with 2 NA values in thos columns will be useless in our model\n",
        "#at this moment, we will delete rows with any na values in this two columns, but for future it's a good idea, to looking for dependence beetween it and values and other variables \n",
        "#(maybe some region have no culture for that or maybe in cities its faster market)\n",
        "data = data.dropna(subset=['serviceCharge', 'totalRent'])"
      ],
      "metadata": {
        "id": "m3_olTOM-Fog"
      },
      "execution_count": null,
      "outputs": []
    },
    {
      "cell_type": "code",
      "source": [
        "#check operation\n",
        "print(data['serviceCharge'].isnull().sum())\n",
        "data['totalRent'].isnull().sum()"
      ],
      "metadata": {
        "colab": {
          "base_uri": "https://localhost:8080/"
        },
        "id": "MHpGrjKyZTbk",
        "outputId": "4a910c44-8bd9-42ef-a8d4-7f200d8fbfc2"
      },
      "execution_count": null,
      "outputs": [
        {
          "output_type": "stream",
          "name": "stdout",
          "text": [
            "0\n"
          ]
        },
        {
          "output_type": "execute_result",
          "data": {
            "text/plain": [
              "0"
            ]
          },
          "metadata": {},
          "execution_count": 380
        }
      ]
    },
    {
      "cell_type": "code",
      "source": [
        "data.shape"
      ],
      "metadata": {
        "colab": {
          "base_uri": "https://localhost:8080/"
        },
        "id": "-NJ27POgZXoE",
        "outputId": "8e002739-da3d-4f55-a799-02e5a6b62cfd"
      },
      "execution_count": null,
      "outputs": [
        {
          "output_type": "execute_result",
          "data": {
            "text/plain": [
              "(224243, 25)"
            ]
          },
          "metadata": {},
          "execution_count": 381
        }
      ]
    },
    {
      "cell_type": "code",
      "source": [
        "data.info()"
      ],
      "metadata": {
        "colab": {
          "base_uri": "https://localhost:8080/"
        },
        "id": "sh8uAOe90NqB",
        "outputId": "3f9a4eda-03d5-4f78-900b-26b7c1c2b621"
      },
      "execution_count": null,
      "outputs": [
        {
          "output_type": "stream",
          "name": "stdout",
          "text": [
            "<class 'pandas.core.frame.DataFrame'>\n",
            "Int64Index: 224243 entries, 0 to 268848\n",
            "Data columns (total 25 columns):\n",
            " #   Column           Non-Null Count   Dtype  \n",
            "---  ------           --------------   -----  \n",
            " 0   regio1           224243 non-null  object \n",
            " 1   serviceCharge    224243 non-null  float64\n",
            " 2   heatingType      189554 non-null  object \n",
            " 3   newlyConst       224243 non-null  bool   \n",
            " 4   balcony          224243 non-null  bool   \n",
            " 5   totalRent        224243 non-null  float64\n",
            " 6   yearConstructed  177312 non-null  float64\n",
            " 7   noParkSpaces     76648 non-null   float64\n",
            " 8   hasKitchen       224243 non-null  bool   \n",
            " 9   cellar           224243 non-null  bool   \n",
            " 10  baseRent         224243 non-null  float64\n",
            " 11  livingSpace      224243 non-null  float64\n",
            " 12  condition        169461 non-null  object \n",
            " 13  interiorQual     137826 non-null  object \n",
            " 14  petsAllowed      131503 non-null  object \n",
            " 15  lift             224243 non-null  bool   \n",
            " 16  typeOfFlat       194163 non-null  object \n",
            " 17  geo_plz          224243 non-null  int64  \n",
            " 18  noRooms          224243 non-null  float64\n",
            " 19  thermalChar      133801 non-null  float64\n",
            " 20  floor            186195 non-null  float64\n",
            " 21  numberOfFloors   147534 non-null  float64\n",
            " 22  garden           224243 non-null  bool   \n",
            " 23  heatingCosts     73023 non-null   float64\n",
            " 24  lastRefurbish    71916 non-null   float64\n",
            "dtypes: bool(6), float64(12), int64(1), object(6)\n",
            "memory usage: 35.5+ MB\n"
          ]
        }
      ]
    },
    {
      "cell_type": "code",
      "source": [
        "data.shape"
      ],
      "metadata": {
        "colab": {
          "base_uri": "https://localhost:8080/"
        },
        "id": "9jbVSNJ_1yUn",
        "outputId": "61c7807e-9a04-4673-867b-c2410f4d8a68"
      },
      "execution_count": null,
      "outputs": [
        {
          "output_type": "execute_result",
          "data": {
            "text/plain": [
              "(224243, 25)"
            ]
          },
          "metadata": {},
          "execution_count": 383
        }
      ]
    },
    {
      "cell_type": "code",
      "execution_count": null,
      "metadata": {
        "colab": {
          "base_uri": "https://localhost:8080/",
          "height": 833
        },
        "id": "BcP8gzRvZyTM",
        "outputId": "03f1838f-f79d-4b43-fe63-1c53d61f46ba"
      },
      "outputs": [
        {
          "output_type": "execute_result",
          "data": {
            "text/plain": [
              "                     column_name  percent_missing\n",
              "lastRefurbish      lastRefurbish        67.929434\n",
              "heatingCosts        heatingCosts        67.435773\n",
              "noParkSpaces        noParkSpaces        65.819223\n",
              "petsAllowed          petsAllowed        41.356921\n",
              "thermalChar          thermalChar        40.332140\n",
              "interiorQual        interiorQual        38.537212\n",
              "numberOfFloors    numberOfFloors        34.207980\n",
              "condition              condition        24.429748\n",
              "yearConstructed  yearConstructed        20.928635\n",
              "floor                      floor        16.967308\n",
              "heatingType          heatingType        15.469379\n",
              "typeOfFlat            typeOfFlat        13.414020\n",
              "geo_plz                  geo_plz         0.000000\n",
              "garden                    garden         0.000000\n",
              "newlyConst            newlyConst         0.000000\n",
              "balcony                  balcony         0.000000\n",
              "noRooms                  noRooms         0.000000\n",
              "hasKitchen            hasKitchen         0.000000\n",
              "cellar                    cellar         0.000000\n",
              "lift                        lift         0.000000\n",
              "totalRent              totalRent         0.000000\n",
              "serviceCharge      serviceCharge         0.000000\n",
              "livingSpace          livingSpace         0.000000\n",
              "baseRent                baseRent         0.000000\n",
              "regio1                    regio1         0.000000"
            ],
            "text/html": [
              "\n",
              "  <div id=\"df-5692042b-aeb0-4c1c-83d2-64c6e4ec225e\">\n",
              "    <div class=\"colab-df-container\">\n",
              "      <div>\n",
              "<style scoped>\n",
              "    .dataframe tbody tr th:only-of-type {\n",
              "        vertical-align: middle;\n",
              "    }\n",
              "\n",
              "    .dataframe tbody tr th {\n",
              "        vertical-align: top;\n",
              "    }\n",
              "\n",
              "    .dataframe thead th {\n",
              "        text-align: right;\n",
              "    }\n",
              "</style>\n",
              "<table border=\"1\" class=\"dataframe\">\n",
              "  <thead>\n",
              "    <tr style=\"text-align: right;\">\n",
              "      <th></th>\n",
              "      <th>column_name</th>\n",
              "      <th>percent_missing</th>\n",
              "    </tr>\n",
              "  </thead>\n",
              "  <tbody>\n",
              "    <tr>\n",
              "      <th>lastRefurbish</th>\n",
              "      <td>lastRefurbish</td>\n",
              "      <td>67.929434</td>\n",
              "    </tr>\n",
              "    <tr>\n",
              "      <th>heatingCosts</th>\n",
              "      <td>heatingCosts</td>\n",
              "      <td>67.435773</td>\n",
              "    </tr>\n",
              "    <tr>\n",
              "      <th>noParkSpaces</th>\n",
              "      <td>noParkSpaces</td>\n",
              "      <td>65.819223</td>\n",
              "    </tr>\n",
              "    <tr>\n",
              "      <th>petsAllowed</th>\n",
              "      <td>petsAllowed</td>\n",
              "      <td>41.356921</td>\n",
              "    </tr>\n",
              "    <tr>\n",
              "      <th>thermalChar</th>\n",
              "      <td>thermalChar</td>\n",
              "      <td>40.332140</td>\n",
              "    </tr>\n",
              "    <tr>\n",
              "      <th>interiorQual</th>\n",
              "      <td>interiorQual</td>\n",
              "      <td>38.537212</td>\n",
              "    </tr>\n",
              "    <tr>\n",
              "      <th>numberOfFloors</th>\n",
              "      <td>numberOfFloors</td>\n",
              "      <td>34.207980</td>\n",
              "    </tr>\n",
              "    <tr>\n",
              "      <th>condition</th>\n",
              "      <td>condition</td>\n",
              "      <td>24.429748</td>\n",
              "    </tr>\n",
              "    <tr>\n",
              "      <th>yearConstructed</th>\n",
              "      <td>yearConstructed</td>\n",
              "      <td>20.928635</td>\n",
              "    </tr>\n",
              "    <tr>\n",
              "      <th>floor</th>\n",
              "      <td>floor</td>\n",
              "      <td>16.967308</td>\n",
              "    </tr>\n",
              "    <tr>\n",
              "      <th>heatingType</th>\n",
              "      <td>heatingType</td>\n",
              "      <td>15.469379</td>\n",
              "    </tr>\n",
              "    <tr>\n",
              "      <th>typeOfFlat</th>\n",
              "      <td>typeOfFlat</td>\n",
              "      <td>13.414020</td>\n",
              "    </tr>\n",
              "    <tr>\n",
              "      <th>geo_plz</th>\n",
              "      <td>geo_plz</td>\n",
              "      <td>0.000000</td>\n",
              "    </tr>\n",
              "    <tr>\n",
              "      <th>garden</th>\n",
              "      <td>garden</td>\n",
              "      <td>0.000000</td>\n",
              "    </tr>\n",
              "    <tr>\n",
              "      <th>newlyConst</th>\n",
              "      <td>newlyConst</td>\n",
              "      <td>0.000000</td>\n",
              "    </tr>\n",
              "    <tr>\n",
              "      <th>balcony</th>\n",
              "      <td>balcony</td>\n",
              "      <td>0.000000</td>\n",
              "    </tr>\n",
              "    <tr>\n",
              "      <th>noRooms</th>\n",
              "      <td>noRooms</td>\n",
              "      <td>0.000000</td>\n",
              "    </tr>\n",
              "    <tr>\n",
              "      <th>hasKitchen</th>\n",
              "      <td>hasKitchen</td>\n",
              "      <td>0.000000</td>\n",
              "    </tr>\n",
              "    <tr>\n",
              "      <th>cellar</th>\n",
              "      <td>cellar</td>\n",
              "      <td>0.000000</td>\n",
              "    </tr>\n",
              "    <tr>\n",
              "      <th>lift</th>\n",
              "      <td>lift</td>\n",
              "      <td>0.000000</td>\n",
              "    </tr>\n",
              "    <tr>\n",
              "      <th>totalRent</th>\n",
              "      <td>totalRent</td>\n",
              "      <td>0.000000</td>\n",
              "    </tr>\n",
              "    <tr>\n",
              "      <th>serviceCharge</th>\n",
              "      <td>serviceCharge</td>\n",
              "      <td>0.000000</td>\n",
              "    </tr>\n",
              "    <tr>\n",
              "      <th>livingSpace</th>\n",
              "      <td>livingSpace</td>\n",
              "      <td>0.000000</td>\n",
              "    </tr>\n",
              "    <tr>\n",
              "      <th>baseRent</th>\n",
              "      <td>baseRent</td>\n",
              "      <td>0.000000</td>\n",
              "    </tr>\n",
              "    <tr>\n",
              "      <th>regio1</th>\n",
              "      <td>regio1</td>\n",
              "      <td>0.000000</td>\n",
              "    </tr>\n",
              "  </tbody>\n",
              "</table>\n",
              "</div>\n",
              "      <button class=\"colab-df-convert\" onclick=\"convertToInteractive('df-5692042b-aeb0-4c1c-83d2-64c6e4ec225e')\"\n",
              "              title=\"Convert this dataframe to an interactive table.\"\n",
              "              style=\"display:none;\">\n",
              "        \n",
              "  <svg xmlns=\"http://www.w3.org/2000/svg\" height=\"24px\"viewBox=\"0 0 24 24\"\n",
              "       width=\"24px\">\n",
              "    <path d=\"M0 0h24v24H0V0z\" fill=\"none\"/>\n",
              "    <path d=\"M18.56 5.44l.94 2.06.94-2.06 2.06-.94-2.06-.94-.94-2.06-.94 2.06-2.06.94zm-11 1L8.5 8.5l.94-2.06 2.06-.94-2.06-.94L8.5 2.5l-.94 2.06-2.06.94zm10 10l.94 2.06.94-2.06 2.06-.94-2.06-.94-.94-2.06-.94 2.06-2.06.94z\"/><path d=\"M17.41 7.96l-1.37-1.37c-.4-.4-.92-.59-1.43-.59-.52 0-1.04.2-1.43.59L10.3 9.45l-7.72 7.72c-.78.78-.78 2.05 0 2.83L4 21.41c.39.39.9.59 1.41.59.51 0 1.02-.2 1.41-.59l7.78-7.78 2.81-2.81c.8-.78.8-2.07 0-2.86zM5.41 20L4 18.59l7.72-7.72 1.47 1.35L5.41 20z\"/>\n",
              "  </svg>\n",
              "      </button>\n",
              "      \n",
              "  <style>\n",
              "    .colab-df-container {\n",
              "      display:flex;\n",
              "      flex-wrap:wrap;\n",
              "      gap: 12px;\n",
              "    }\n",
              "\n",
              "    .colab-df-convert {\n",
              "      background-color: #E8F0FE;\n",
              "      border: none;\n",
              "      border-radius: 50%;\n",
              "      cursor: pointer;\n",
              "      display: none;\n",
              "      fill: #1967D2;\n",
              "      height: 32px;\n",
              "      padding: 0 0 0 0;\n",
              "      width: 32px;\n",
              "    }\n",
              "\n",
              "    .colab-df-convert:hover {\n",
              "      background-color: #E2EBFA;\n",
              "      box-shadow: 0px 1px 2px rgba(60, 64, 67, 0.3), 0px 1px 3px 1px rgba(60, 64, 67, 0.15);\n",
              "      fill: #174EA6;\n",
              "    }\n",
              "\n",
              "    [theme=dark] .colab-df-convert {\n",
              "      background-color: #3B4455;\n",
              "      fill: #D2E3FC;\n",
              "    }\n",
              "\n",
              "    [theme=dark] .colab-df-convert:hover {\n",
              "      background-color: #434B5C;\n",
              "      box-shadow: 0px 1px 3px 1px rgba(0, 0, 0, 0.15);\n",
              "      filter: drop-shadow(0px 1px 2px rgba(0, 0, 0, 0.3));\n",
              "      fill: #FFFFFF;\n",
              "    }\n",
              "  </style>\n",
              "\n",
              "      <script>\n",
              "        const buttonEl =\n",
              "          document.querySelector('#df-5692042b-aeb0-4c1c-83d2-64c6e4ec225e button.colab-df-convert');\n",
              "        buttonEl.style.display =\n",
              "          google.colab.kernel.accessAllowed ? 'block' : 'none';\n",
              "\n",
              "        async function convertToInteractive(key) {\n",
              "          const element = document.querySelector('#df-5692042b-aeb0-4c1c-83d2-64c6e4ec225e');\n",
              "          const dataTable =\n",
              "            await google.colab.kernel.invokeFunction('convertToInteractive',\n",
              "                                                     [key], {});\n",
              "          if (!dataTable) return;\n",
              "\n",
              "          const docLinkHtml = 'Like what you see? Visit the ' +\n",
              "            '<a target=\"_blank\" href=https://colab.research.google.com/notebooks/data_table.ipynb>data table notebook</a>'\n",
              "            + ' to learn more about interactive tables.';\n",
              "          element.innerHTML = '';\n",
              "          dataTable['output_type'] = 'display_data';\n",
              "          await google.colab.output.renderOutput(dataTable, element);\n",
              "          const docLink = document.createElement('div');\n",
              "          docLink.innerHTML = docLinkHtml;\n",
              "          element.appendChild(docLink);\n",
              "        }\n",
              "      </script>\n",
              "    </div>\n",
              "  </div>\n",
              "  "
            ]
          },
          "metadata": {},
          "execution_count": 384
        }
      ],
      "source": [
        "percentage_of_null = data.isnull().sum()* 100 / len(data)\n",
        "percentage_of_null = pd.DataFrame({'column_name': data.columns,\n",
        "                                 'percent_missing': percentage_of_null})\n",
        "percentage_of_null.sort_values('percent_missing', inplace=True, ascending=False)\n",
        "percentage_of_null"
      ]
    },
    {
      "cell_type": "code",
      "source": [
        "#dropping columns containing more than 40% missing values\n",
        "for column in data:\n",
        "    if (data[column].isnull().sum()/len(data.index) * 100) > 40: #interoirQuality and Condition are similar (additionaly to newlyCost=0%),\n",
        "        data.drop(column,axis=1,inplace = True)      \n",
        "\n",
        "data.shape"
      ],
      "metadata": {
        "colab": {
          "base_uri": "https://localhost:8080/"
        },
        "id": "1u9ZQgmHCLla",
        "outputId": "2fe93716-83ab-49f6-cb44-df0f38e1c613"
      },
      "execution_count": null,
      "outputs": [
        {
          "output_type": "execute_result",
          "data": {
            "text/plain": [
              "(224243, 20)"
            ]
          },
          "metadata": {},
          "execution_count": 385
        }
      ]
    },
    {
      "cell_type": "code",
      "source": [
        "#check the quality of rows with na values\n",
        "countRowsByNA = pd.DataFrame(data.isnull().sum(axis=1))\n",
        "print(countRowsByNA.groupby([0])[0].count()/len(data)*100)"
      ],
      "metadata": {
        "colab": {
          "base_uri": "https://localhost:8080/"
        },
        "id": "inr-TPzAl99a",
        "outputId": "f9591aa8-1820-4981-81ce-0fdd7c8f539c"
      },
      "execution_count": null,
      "outputs": [
        {
          "output_type": "stream",
          "name": "stdout",
          "text": [
            "0\n",
            "0    31.728973\n",
            "1    22.139822\n",
            "2    17.833779\n",
            "3    14.674260\n",
            "4     7.844615\n",
            "5     4.121422\n",
            "6     1.461361\n",
            "7     0.195770\n",
            "Name: 0, dtype: float64\n"
          ]
        }
      ]
    },
    {
      "cell_type": "code",
      "source": [
        "data.describe()"
      ],
      "metadata": {
        "colab": {
          "base_uri": "https://localhost:8080/",
          "height": 300
        },
        "id": "DVYMbMXWzVq6",
        "outputId": "c515670f-d726-44b0-df91-1360ae3bbc6d"
      },
      "execution_count": null,
      "outputs": [
        {
          "output_type": "execute_result",
          "data": {
            "text/plain": [
              "       serviceCharge     totalRent  yearConstructed       baseRent  \\\n",
              "count  224243.000000  2.242430e+05    177312.000000  224243.000000   \n",
              "mean      151.423054  8.921350e+02      1965.609293     642.056936   \n",
              "std       326.320957  3.337203e+04        47.851894     505.543726   \n",
              "min         0.000000  0.000000e+00      1000.000000       0.000000   \n",
              "25%        95.480000  4.690000e+02      1940.000000     333.000000   \n",
              "50%       136.000000  6.481300e+02      1972.000000     486.720000   \n",
              "75%       190.000000  9.800000e+02      1996.000000     793.515000   \n",
              "max    146118.000000  1.575154e+07      2090.000000   30990.000000   \n",
              "\n",
              "         livingSpace        geo_plz        noRooms          floor  \\\n",
              "count  224243.000000  224243.000000  224243.000000  186195.000000   \n",
              "mean       73.214572   36269.203079       2.621105       2.133575   \n",
              "std       145.958021   27948.104870       1.734724       3.567219   \n",
              "min         0.000000     852.000000       1.000000      -1.000000   \n",
              "25%        54.000000    9119.000000       2.000000       1.000000   \n",
              "50%        67.000000   37085.000000       3.000000       2.000000   \n",
              "75%        86.000000   55543.000000       3.000000       3.000000   \n",
              "max     66100.000000   99998.000000     560.000000     999.000000   \n",
              "\n",
              "       numberOfFloors  \n",
              "count   147534.000000  \n",
              "mean         3.585580  \n",
              "std          5.911557  \n",
              "min          0.000000  \n",
              "25%          2.000000  \n",
              "50%          3.000000  \n",
              "75%          4.000000  \n",
              "max        999.000000  "
            ],
            "text/html": [
              "\n",
              "  <div id=\"df-94d52ddc-503b-4f9b-bb7e-6510cb9f6b41\">\n",
              "    <div class=\"colab-df-container\">\n",
              "      <div>\n",
              "<style scoped>\n",
              "    .dataframe tbody tr th:only-of-type {\n",
              "        vertical-align: middle;\n",
              "    }\n",
              "\n",
              "    .dataframe tbody tr th {\n",
              "        vertical-align: top;\n",
              "    }\n",
              "\n",
              "    .dataframe thead th {\n",
              "        text-align: right;\n",
              "    }\n",
              "</style>\n",
              "<table border=\"1\" class=\"dataframe\">\n",
              "  <thead>\n",
              "    <tr style=\"text-align: right;\">\n",
              "      <th></th>\n",
              "      <th>serviceCharge</th>\n",
              "      <th>totalRent</th>\n",
              "      <th>yearConstructed</th>\n",
              "      <th>baseRent</th>\n",
              "      <th>livingSpace</th>\n",
              "      <th>geo_plz</th>\n",
              "      <th>noRooms</th>\n",
              "      <th>floor</th>\n",
              "      <th>numberOfFloors</th>\n",
              "    </tr>\n",
              "  </thead>\n",
              "  <tbody>\n",
              "    <tr>\n",
              "      <th>count</th>\n",
              "      <td>224243.000000</td>\n",
              "      <td>2.242430e+05</td>\n",
              "      <td>177312.000000</td>\n",
              "      <td>224243.000000</td>\n",
              "      <td>224243.000000</td>\n",
              "      <td>224243.000000</td>\n",
              "      <td>224243.000000</td>\n",
              "      <td>186195.000000</td>\n",
              "      <td>147534.000000</td>\n",
              "    </tr>\n",
              "    <tr>\n",
              "      <th>mean</th>\n",
              "      <td>151.423054</td>\n",
              "      <td>8.921350e+02</td>\n",
              "      <td>1965.609293</td>\n",
              "      <td>642.056936</td>\n",
              "      <td>73.214572</td>\n",
              "      <td>36269.203079</td>\n",
              "      <td>2.621105</td>\n",
              "      <td>2.133575</td>\n",
              "      <td>3.585580</td>\n",
              "    </tr>\n",
              "    <tr>\n",
              "      <th>std</th>\n",
              "      <td>326.320957</td>\n",
              "      <td>3.337203e+04</td>\n",
              "      <td>47.851894</td>\n",
              "      <td>505.543726</td>\n",
              "      <td>145.958021</td>\n",
              "      <td>27948.104870</td>\n",
              "      <td>1.734724</td>\n",
              "      <td>3.567219</td>\n",
              "      <td>5.911557</td>\n",
              "    </tr>\n",
              "    <tr>\n",
              "      <th>min</th>\n",
              "      <td>0.000000</td>\n",
              "      <td>0.000000e+00</td>\n",
              "      <td>1000.000000</td>\n",
              "      <td>0.000000</td>\n",
              "      <td>0.000000</td>\n",
              "      <td>852.000000</td>\n",
              "      <td>1.000000</td>\n",
              "      <td>-1.000000</td>\n",
              "      <td>0.000000</td>\n",
              "    </tr>\n",
              "    <tr>\n",
              "      <th>25%</th>\n",
              "      <td>95.480000</td>\n",
              "      <td>4.690000e+02</td>\n",
              "      <td>1940.000000</td>\n",
              "      <td>333.000000</td>\n",
              "      <td>54.000000</td>\n",
              "      <td>9119.000000</td>\n",
              "      <td>2.000000</td>\n",
              "      <td>1.000000</td>\n",
              "      <td>2.000000</td>\n",
              "    </tr>\n",
              "    <tr>\n",
              "      <th>50%</th>\n",
              "      <td>136.000000</td>\n",
              "      <td>6.481300e+02</td>\n",
              "      <td>1972.000000</td>\n",
              "      <td>486.720000</td>\n",
              "      <td>67.000000</td>\n",
              "      <td>37085.000000</td>\n",
              "      <td>3.000000</td>\n",
              "      <td>2.000000</td>\n",
              "      <td>3.000000</td>\n",
              "    </tr>\n",
              "    <tr>\n",
              "      <th>75%</th>\n",
              "      <td>190.000000</td>\n",
              "      <td>9.800000e+02</td>\n",
              "      <td>1996.000000</td>\n",
              "      <td>793.515000</td>\n",
              "      <td>86.000000</td>\n",
              "      <td>55543.000000</td>\n",
              "      <td>3.000000</td>\n",
              "      <td>3.000000</td>\n",
              "      <td>4.000000</td>\n",
              "    </tr>\n",
              "    <tr>\n",
              "      <th>max</th>\n",
              "      <td>146118.000000</td>\n",
              "      <td>1.575154e+07</td>\n",
              "      <td>2090.000000</td>\n",
              "      <td>30990.000000</td>\n",
              "      <td>66100.000000</td>\n",
              "      <td>99998.000000</td>\n",
              "      <td>560.000000</td>\n",
              "      <td>999.000000</td>\n",
              "      <td>999.000000</td>\n",
              "    </tr>\n",
              "  </tbody>\n",
              "</table>\n",
              "</div>\n",
              "      <button class=\"colab-df-convert\" onclick=\"convertToInteractive('df-94d52ddc-503b-4f9b-bb7e-6510cb9f6b41')\"\n",
              "              title=\"Convert this dataframe to an interactive table.\"\n",
              "              style=\"display:none;\">\n",
              "        \n",
              "  <svg xmlns=\"http://www.w3.org/2000/svg\" height=\"24px\"viewBox=\"0 0 24 24\"\n",
              "       width=\"24px\">\n",
              "    <path d=\"M0 0h24v24H0V0z\" fill=\"none\"/>\n",
              "    <path d=\"M18.56 5.44l.94 2.06.94-2.06 2.06-.94-2.06-.94-.94-2.06-.94 2.06-2.06.94zm-11 1L8.5 8.5l.94-2.06 2.06-.94-2.06-.94L8.5 2.5l-.94 2.06-2.06.94zm10 10l.94 2.06.94-2.06 2.06-.94-2.06-.94-.94-2.06-.94 2.06-2.06.94z\"/><path d=\"M17.41 7.96l-1.37-1.37c-.4-.4-.92-.59-1.43-.59-.52 0-1.04.2-1.43.59L10.3 9.45l-7.72 7.72c-.78.78-.78 2.05 0 2.83L4 21.41c.39.39.9.59 1.41.59.51 0 1.02-.2 1.41-.59l7.78-7.78 2.81-2.81c.8-.78.8-2.07 0-2.86zM5.41 20L4 18.59l7.72-7.72 1.47 1.35L5.41 20z\"/>\n",
              "  </svg>\n",
              "      </button>\n",
              "      \n",
              "  <style>\n",
              "    .colab-df-container {\n",
              "      display:flex;\n",
              "      flex-wrap:wrap;\n",
              "      gap: 12px;\n",
              "    }\n",
              "\n",
              "    .colab-df-convert {\n",
              "      background-color: #E8F0FE;\n",
              "      border: none;\n",
              "      border-radius: 50%;\n",
              "      cursor: pointer;\n",
              "      display: none;\n",
              "      fill: #1967D2;\n",
              "      height: 32px;\n",
              "      padding: 0 0 0 0;\n",
              "      width: 32px;\n",
              "    }\n",
              "\n",
              "    .colab-df-convert:hover {\n",
              "      background-color: #E2EBFA;\n",
              "      box-shadow: 0px 1px 2px rgba(60, 64, 67, 0.3), 0px 1px 3px 1px rgba(60, 64, 67, 0.15);\n",
              "      fill: #174EA6;\n",
              "    }\n",
              "\n",
              "    [theme=dark] .colab-df-convert {\n",
              "      background-color: #3B4455;\n",
              "      fill: #D2E3FC;\n",
              "    }\n",
              "\n",
              "    [theme=dark] .colab-df-convert:hover {\n",
              "      background-color: #434B5C;\n",
              "      box-shadow: 0px 1px 3px 1px rgba(0, 0, 0, 0.15);\n",
              "      filter: drop-shadow(0px 1px 2px rgba(0, 0, 0, 0.3));\n",
              "      fill: #FFFFFF;\n",
              "    }\n",
              "  </style>\n",
              "\n",
              "      <script>\n",
              "        const buttonEl =\n",
              "          document.querySelector('#df-94d52ddc-503b-4f9b-bb7e-6510cb9f6b41 button.colab-df-convert');\n",
              "        buttonEl.style.display =\n",
              "          google.colab.kernel.accessAllowed ? 'block' : 'none';\n",
              "\n",
              "        async function convertToInteractive(key) {\n",
              "          const element = document.querySelector('#df-94d52ddc-503b-4f9b-bb7e-6510cb9f6b41');\n",
              "          const dataTable =\n",
              "            await google.colab.kernel.invokeFunction('convertToInteractive',\n",
              "                                                     [key], {});\n",
              "          if (!dataTable) return;\n",
              "\n",
              "          const docLinkHtml = 'Like what you see? Visit the ' +\n",
              "            '<a target=\"_blank\" href=https://colab.research.google.com/notebooks/data_table.ipynb>data table notebook</a>'\n",
              "            + ' to learn more about interactive tables.';\n",
              "          element.innerHTML = '';\n",
              "          dataTable['output_type'] = 'display_data';\n",
              "          await google.colab.output.renderOutput(dataTable, element);\n",
              "          const docLink = document.createElement('div');\n",
              "          docLink.innerHTML = docLinkHtml;\n",
              "          element.appendChild(docLink);\n",
              "        }\n",
              "      </script>\n",
              "    </div>\n",
              "  </div>\n",
              "  "
            ]
          },
          "metadata": {},
          "execution_count": 387
        }
      ]
    },
    {
      "cell_type": "code",
      "source": [
        "#We delete values that are outliers or have no sanse\n",
        "df = data\n",
        "df = df[df.serviceCharge.between(50,300, inclusive=True)] \n",
        "df = df[df.yearConstructed.between(1500,2019, inclusive=True)] \n",
        "df = df[df.baseRent.between(100,10000, inclusive=True)]\n",
        "df = df[df.livingSpace.between(20, 500, inclusive=True)]\n",
        "df = df[df.noRooms.between(0,15, inclusive=True)]\n",
        "df = df[df.floor.between(-1,50, inclusive=True)] \n",
        "df = df[df.totalRent.between(100,15000, inclusive=True)]\n",
        "df = df[df.numberOfFloors.between(1,50, inclusive=True)]"
      ],
      "metadata": {
        "colab": {
          "base_uri": "https://localhost:8080/"
        },
        "id": "WYf1wBngzdJA",
        "outputId": "3499ff3c-ba39-4611-a095-3b2053992bce"
      },
      "execution_count": null,
      "outputs": [
        {
          "output_type": "stream",
          "name": "stderr",
          "text": [
            "<ipython-input-388-daffbc436f92>:3: FutureWarning: Boolean inputs to the `inclusive` argument are deprecated infavour of `both` or `neither`.\n",
            "  df = df[df.serviceCharge.between(50,300, inclusive=True)]\n",
            "<ipython-input-388-daffbc436f92>:4: FutureWarning: Boolean inputs to the `inclusive` argument are deprecated infavour of `both` or `neither`.\n",
            "  df = df[df.yearConstructed.between(1500,2019, inclusive=True)]\n",
            "<ipython-input-388-daffbc436f92>:5: FutureWarning: Boolean inputs to the `inclusive` argument are deprecated infavour of `both` or `neither`.\n",
            "  df = df[df.baseRent.between(100,10000, inclusive=True)]\n",
            "<ipython-input-388-daffbc436f92>:6: FutureWarning: Boolean inputs to the `inclusive` argument are deprecated infavour of `both` or `neither`.\n",
            "  df = df[df.livingSpace.between(20, 500, inclusive=True)]\n",
            "<ipython-input-388-daffbc436f92>:7: FutureWarning: Boolean inputs to the `inclusive` argument are deprecated infavour of `both` or `neither`.\n",
            "  df = df[df.noRooms.between(0,15, inclusive=True)]\n",
            "<ipython-input-388-daffbc436f92>:8: FutureWarning: Boolean inputs to the `inclusive` argument are deprecated infavour of `both` or `neither`.\n",
            "  df = df[df.floor.between(-1,50, inclusive=True)]\n",
            "<ipython-input-388-daffbc436f92>:9: FutureWarning: Boolean inputs to the `inclusive` argument are deprecated infavour of `both` or `neither`.\n",
            "  df = df[df.totalRent.between(100,15000, inclusive=True)]\n",
            "<ipython-input-388-daffbc436f92>:10: FutureWarning: Boolean inputs to the `inclusive` argument are deprecated infavour of `both` or `neither`.\n",
            "  df = df[df.numberOfFloors.between(1,50, inclusive=True)]\n"
          ]
        }
      ]
    },
    {
      "cell_type": "code",
      "source": [
        "df.shape\n",
        "\n",
        "#it's around 150k rows. Our dataset have still 100k but it takes information about low quality of this data. We will check what it has changed it in next step"
      ],
      "metadata": {
        "id": "mRWdzHhh1gmT",
        "colab": {
          "base_uri": "https://localhost:8080/"
        },
        "outputId": "4b14ef24-684c-4fd6-b1a9-3103411fbfa6"
      },
      "execution_count": null,
      "outputs": [
        {
          "output_type": "execute_result",
          "data": {
            "text/plain": [
              "(100060, 20)"
            ]
          },
          "metadata": {},
          "execution_count": 389
        }
      ]
    },
    {
      "cell_type": "code",
      "source": [
        "percentage_of_null = df.isnull().sum()* 100 / len(data)\n",
        "percentage_of_null = pd.DataFrame({'column_name': df.columns,\n",
        "                                 'percent_missing': percentage_of_null})\n",
        "percentage_of_null.sort_values('percent_missing', inplace=True, ascending=False)\n",
        "percentage_of_null"
      ],
      "metadata": {
        "colab": {
          "base_uri": "https://localhost:8080/",
          "height": 676
        },
        "id": "lsTgm4zzCBBG",
        "outputId": "1c1b85e9-1a72-4796-a949-15d7d3f67e98"
      },
      "execution_count": null,
      "outputs": [
        {
          "output_type": "execute_result",
          "data": {
            "text/plain": [
              "                     column_name  percent_missing\n",
              "interiorQual        interiorQual        10.642919\n",
              "condition              condition         5.057014\n",
              "typeOfFlat            typeOfFlat         3.694653\n",
              "heatingType          heatingType         3.350829\n",
              "regio1                    regio1         0.000000\n",
              "numberOfFloors    numberOfFloors         0.000000\n",
              "floor                      floor         0.000000\n",
              "noRooms                  noRooms         0.000000\n",
              "geo_plz                  geo_plz         0.000000\n",
              "lift                        lift         0.000000\n",
              "livingSpace          livingSpace         0.000000\n",
              "serviceCharge      serviceCharge         0.000000\n",
              "baseRent                baseRent         0.000000\n",
              "cellar                    cellar         0.000000\n",
              "hasKitchen            hasKitchen         0.000000\n",
              "yearConstructed  yearConstructed         0.000000\n",
              "totalRent              totalRent         0.000000\n",
              "balcony                  balcony         0.000000\n",
              "newlyConst            newlyConst         0.000000\n",
              "garden                    garden         0.000000"
            ],
            "text/html": [
              "\n",
              "  <div id=\"df-a43e66ff-d5f2-48c8-ada9-9ff64c008ce4\">\n",
              "    <div class=\"colab-df-container\">\n",
              "      <div>\n",
              "<style scoped>\n",
              "    .dataframe tbody tr th:only-of-type {\n",
              "        vertical-align: middle;\n",
              "    }\n",
              "\n",
              "    .dataframe tbody tr th {\n",
              "        vertical-align: top;\n",
              "    }\n",
              "\n",
              "    .dataframe thead th {\n",
              "        text-align: right;\n",
              "    }\n",
              "</style>\n",
              "<table border=\"1\" class=\"dataframe\">\n",
              "  <thead>\n",
              "    <tr style=\"text-align: right;\">\n",
              "      <th></th>\n",
              "      <th>column_name</th>\n",
              "      <th>percent_missing</th>\n",
              "    </tr>\n",
              "  </thead>\n",
              "  <tbody>\n",
              "    <tr>\n",
              "      <th>interiorQual</th>\n",
              "      <td>interiorQual</td>\n",
              "      <td>10.642919</td>\n",
              "    </tr>\n",
              "    <tr>\n",
              "      <th>condition</th>\n",
              "      <td>condition</td>\n",
              "      <td>5.057014</td>\n",
              "    </tr>\n",
              "    <tr>\n",
              "      <th>typeOfFlat</th>\n",
              "      <td>typeOfFlat</td>\n",
              "      <td>3.694653</td>\n",
              "    </tr>\n",
              "    <tr>\n",
              "      <th>heatingType</th>\n",
              "      <td>heatingType</td>\n",
              "      <td>3.350829</td>\n",
              "    </tr>\n",
              "    <tr>\n",
              "      <th>regio1</th>\n",
              "      <td>regio1</td>\n",
              "      <td>0.000000</td>\n",
              "    </tr>\n",
              "    <tr>\n",
              "      <th>numberOfFloors</th>\n",
              "      <td>numberOfFloors</td>\n",
              "      <td>0.000000</td>\n",
              "    </tr>\n",
              "    <tr>\n",
              "      <th>floor</th>\n",
              "      <td>floor</td>\n",
              "      <td>0.000000</td>\n",
              "    </tr>\n",
              "    <tr>\n",
              "      <th>noRooms</th>\n",
              "      <td>noRooms</td>\n",
              "      <td>0.000000</td>\n",
              "    </tr>\n",
              "    <tr>\n",
              "      <th>geo_plz</th>\n",
              "      <td>geo_plz</td>\n",
              "      <td>0.000000</td>\n",
              "    </tr>\n",
              "    <tr>\n",
              "      <th>lift</th>\n",
              "      <td>lift</td>\n",
              "      <td>0.000000</td>\n",
              "    </tr>\n",
              "    <tr>\n",
              "      <th>livingSpace</th>\n",
              "      <td>livingSpace</td>\n",
              "      <td>0.000000</td>\n",
              "    </tr>\n",
              "    <tr>\n",
              "      <th>serviceCharge</th>\n",
              "      <td>serviceCharge</td>\n",
              "      <td>0.000000</td>\n",
              "    </tr>\n",
              "    <tr>\n",
              "      <th>baseRent</th>\n",
              "      <td>baseRent</td>\n",
              "      <td>0.000000</td>\n",
              "    </tr>\n",
              "    <tr>\n",
              "      <th>cellar</th>\n",
              "      <td>cellar</td>\n",
              "      <td>0.000000</td>\n",
              "    </tr>\n",
              "    <tr>\n",
              "      <th>hasKitchen</th>\n",
              "      <td>hasKitchen</td>\n",
              "      <td>0.000000</td>\n",
              "    </tr>\n",
              "    <tr>\n",
              "      <th>yearConstructed</th>\n",
              "      <td>yearConstructed</td>\n",
              "      <td>0.000000</td>\n",
              "    </tr>\n",
              "    <tr>\n",
              "      <th>totalRent</th>\n",
              "      <td>totalRent</td>\n",
              "      <td>0.000000</td>\n",
              "    </tr>\n",
              "    <tr>\n",
              "      <th>balcony</th>\n",
              "      <td>balcony</td>\n",
              "      <td>0.000000</td>\n",
              "    </tr>\n",
              "    <tr>\n",
              "      <th>newlyConst</th>\n",
              "      <td>newlyConst</td>\n",
              "      <td>0.000000</td>\n",
              "    </tr>\n",
              "    <tr>\n",
              "      <th>garden</th>\n",
              "      <td>garden</td>\n",
              "      <td>0.000000</td>\n",
              "    </tr>\n",
              "  </tbody>\n",
              "</table>\n",
              "</div>\n",
              "      <button class=\"colab-df-convert\" onclick=\"convertToInteractive('df-a43e66ff-d5f2-48c8-ada9-9ff64c008ce4')\"\n",
              "              title=\"Convert this dataframe to an interactive table.\"\n",
              "              style=\"display:none;\">\n",
              "        \n",
              "  <svg xmlns=\"http://www.w3.org/2000/svg\" height=\"24px\"viewBox=\"0 0 24 24\"\n",
              "       width=\"24px\">\n",
              "    <path d=\"M0 0h24v24H0V0z\" fill=\"none\"/>\n",
              "    <path d=\"M18.56 5.44l.94 2.06.94-2.06 2.06-.94-2.06-.94-.94-2.06-.94 2.06-2.06.94zm-11 1L8.5 8.5l.94-2.06 2.06-.94-2.06-.94L8.5 2.5l-.94 2.06-2.06.94zm10 10l.94 2.06.94-2.06 2.06-.94-2.06-.94-.94-2.06-.94 2.06-2.06.94z\"/><path d=\"M17.41 7.96l-1.37-1.37c-.4-.4-.92-.59-1.43-.59-.52 0-1.04.2-1.43.59L10.3 9.45l-7.72 7.72c-.78.78-.78 2.05 0 2.83L4 21.41c.39.39.9.59 1.41.59.51 0 1.02-.2 1.41-.59l7.78-7.78 2.81-2.81c.8-.78.8-2.07 0-2.86zM5.41 20L4 18.59l7.72-7.72 1.47 1.35L5.41 20z\"/>\n",
              "  </svg>\n",
              "      </button>\n",
              "      \n",
              "  <style>\n",
              "    .colab-df-container {\n",
              "      display:flex;\n",
              "      flex-wrap:wrap;\n",
              "      gap: 12px;\n",
              "    }\n",
              "\n",
              "    .colab-df-convert {\n",
              "      background-color: #E8F0FE;\n",
              "      border: none;\n",
              "      border-radius: 50%;\n",
              "      cursor: pointer;\n",
              "      display: none;\n",
              "      fill: #1967D2;\n",
              "      height: 32px;\n",
              "      padding: 0 0 0 0;\n",
              "      width: 32px;\n",
              "    }\n",
              "\n",
              "    .colab-df-convert:hover {\n",
              "      background-color: #E2EBFA;\n",
              "      box-shadow: 0px 1px 2px rgba(60, 64, 67, 0.3), 0px 1px 3px 1px rgba(60, 64, 67, 0.15);\n",
              "      fill: #174EA6;\n",
              "    }\n",
              "\n",
              "    [theme=dark] .colab-df-convert {\n",
              "      background-color: #3B4455;\n",
              "      fill: #D2E3FC;\n",
              "    }\n",
              "\n",
              "    [theme=dark] .colab-df-convert:hover {\n",
              "      background-color: #434B5C;\n",
              "      box-shadow: 0px 1px 3px 1px rgba(0, 0, 0, 0.15);\n",
              "      filter: drop-shadow(0px 1px 2px rgba(0, 0, 0, 0.3));\n",
              "      fill: #FFFFFF;\n",
              "    }\n",
              "  </style>\n",
              "\n",
              "      <script>\n",
              "        const buttonEl =\n",
              "          document.querySelector('#df-a43e66ff-d5f2-48c8-ada9-9ff64c008ce4 button.colab-df-convert');\n",
              "        buttonEl.style.display =\n",
              "          google.colab.kernel.accessAllowed ? 'block' : 'none';\n",
              "\n",
              "        async function convertToInteractive(key) {\n",
              "          const element = document.querySelector('#df-a43e66ff-d5f2-48c8-ada9-9ff64c008ce4');\n",
              "          const dataTable =\n",
              "            await google.colab.kernel.invokeFunction('convertToInteractive',\n",
              "                                                     [key], {});\n",
              "          if (!dataTable) return;\n",
              "\n",
              "          const docLinkHtml = 'Like what you see? Visit the ' +\n",
              "            '<a target=\"_blank\" href=https://colab.research.google.com/notebooks/data_table.ipynb>data table notebook</a>'\n",
              "            + ' to learn more about interactive tables.';\n",
              "          element.innerHTML = '';\n",
              "          dataTable['output_type'] = 'display_data';\n",
              "          await google.colab.output.renderOutput(dataTable, element);\n",
              "          const docLink = document.createElement('div');\n",
              "          docLink.innerHTML = docLinkHtml;\n",
              "          element.appendChild(docLink);\n",
              "        }\n",
              "      </script>\n",
              "    </div>\n",
              "  </div>\n",
              "  "
            ]
          },
          "metadata": {},
          "execution_count": 390
        }
      ]
    },
    {
      "cell_type": "code",
      "source": [
        "DataRowsByNA = pd.DataFrame(data.isnull().sum(axis=1))\n",
        "DataRowsByNA.groupby([0])[0].count()/len(data)*100"
      ],
      "metadata": {
        "colab": {
          "base_uri": "https://localhost:8080/"
        },
        "id": "qvRjqKDc-Sq_",
        "outputId": "48621523-bf5a-4d1b-eab9-7c323bc2197c"
      },
      "execution_count": null,
      "outputs": [
        {
          "output_type": "execute_result",
          "data": {
            "text/plain": [
              "0\n",
              "0    31.728973\n",
              "1    22.139822\n",
              "2    17.833779\n",
              "3    14.674260\n",
              "4     7.844615\n",
              "5     4.121422\n",
              "6     1.461361\n",
              "7     0.195770\n",
              "Name: 0, dtype: float64"
            ]
          },
          "metadata": {},
          "execution_count": 391
        }
      ]
    },
    {
      "cell_type": "code",
      "source": [
        "dfRowsByNA = pd.DataFrame(df.isnull().sum(axis=1))\n",
        "dfRowsByNA.groupby([0])[0].count()/len(data)*100"
      ],
      "metadata": {
        "colab": {
          "base_uri": "https://localhost:8080/"
        },
        "id": "qKFiIn_-AH7P",
        "outputId": "9a58896e-439d-4664-9f25-2ef15a59d679"
      },
      "execution_count": null,
      "outputs": [
        {
          "output_type": "execute_result",
          "data": {
            "text/plain": [
              "0\n",
              "0    28.681386\n",
              "1    10.713824\n",
              "2     3.759315\n",
              "3     1.353888\n",
              "4     0.112824\n",
              "Name: 0, dtype: float64"
            ]
          },
          "metadata": {},
          "execution_count": 392
        }
      ]
    },
    {
      "cell_type": "code",
      "source": [
        "#This step increased the quality of rows in high level - we will get it as empty observations\n",
        "data = df"
      ],
      "metadata": {
        "id": "lXwnwhg3_AeB"
      },
      "execution_count": null,
      "outputs": []
    },
    {
      "cell_type": "code",
      "source": [
        "#print columns with counting more than 0% missing values\n",
        "more_than_0_col = []\n",
        "for column in data:\n",
        "    if (data[column].isnull().sum()/len(data.index) * 100) > 0:\n",
        "        more_than_0_col.append(column)\n",
        "        print(f\"{data[column].isnull().sum()/len(data.index) * 100} - {column}\")"
      ],
      "metadata": {
        "id": "wauw2DrGZVlt",
        "colab": {
          "base_uri": "https://localhost:8080/"
        },
        "outputId": "b4de781d-5011-41f1-c797-16b68260e348"
      },
      "execution_count": null,
      "outputs": [
        {
          "output_type": "stream",
          "name": "stdout",
          "text": [
            "7.509494303417949 - heatingType\n",
            "11.333200079952029 - condition\n",
            "23.851688986608035 - interiorQual\n",
            "8.280031980811513 - typeOfFlat\n"
          ]
        }
      ]
    },
    {
      "cell_type": "code",
      "source": [
        "nan_test1 = data.dropna(subset = more_than_0_col, thresh=3 )\n",
        "nan_test1.shape\n",
        "#this solution delete ~25% of rows, we have to find other way"
      ],
      "metadata": {
        "id": "dA7d4KB1hpbe",
        "colab": {
          "base_uri": "https://localhost:8080/"
        },
        "outputId": "3b411627-0a0b-4641-fe9c-5b29f971c1d7"
      },
      "execution_count": null,
      "outputs": [
        {
          "output_type": "execute_result",
          "data": {
            "text/plain": [
              "(88341, 20)"
            ]
          },
          "metadata": {},
          "execution_count": 395
        }
      ]
    },
    {
      "cell_type": "code",
      "source": [
        "percentage_of_null = nan_test1.isnull().sum()* 100 / len(nan_test1)\n",
        "percentage_of_null = pd.DataFrame({'column_name': nan_test1.columns,\n",
        "                                 'percent_missing': percentage_of_null})\n",
        "percentage_of_null.sort_values('percent_missing', inplace=True, ascending=False)\n",
        "percentage_of_null\n",
        "#this solution bringing not good score"
      ],
      "metadata": {
        "colab": {
          "base_uri": "https://localhost:8080/",
          "height": 676
        },
        "id": "7GSGBf_Eb3Zh",
        "outputId": "c4a52ab6-570d-42a7-9f49-edae6c478913"
      },
      "execution_count": null,
      "outputs": [
        {
          "output_type": "execute_result",
          "data": {
            "text/plain": [
              "                     column_name  percent_missing\n",
              "interiorQual        interiorQual        14.813054\n",
              "typeOfFlat            typeOfFlat         4.978436\n",
              "condition              condition         3.704961\n",
              "heatingType          heatingType         3.699302\n",
              "regio1                    regio1         0.000000\n",
              "numberOfFloors    numberOfFloors         0.000000\n",
              "floor                      floor         0.000000\n",
              "noRooms                  noRooms         0.000000\n",
              "geo_plz                  geo_plz         0.000000\n",
              "lift                        lift         0.000000\n",
              "livingSpace          livingSpace         0.000000\n",
              "serviceCharge      serviceCharge         0.000000\n",
              "baseRent                baseRent         0.000000\n",
              "cellar                    cellar         0.000000\n",
              "hasKitchen            hasKitchen         0.000000\n",
              "yearConstructed  yearConstructed         0.000000\n",
              "totalRent              totalRent         0.000000\n",
              "balcony                  balcony         0.000000\n",
              "newlyConst            newlyConst         0.000000\n",
              "garden                    garden         0.000000"
            ],
            "text/html": [
              "\n",
              "  <div id=\"df-0770509a-bef9-4552-a369-358c78534ed0\">\n",
              "    <div class=\"colab-df-container\">\n",
              "      <div>\n",
              "<style scoped>\n",
              "    .dataframe tbody tr th:only-of-type {\n",
              "        vertical-align: middle;\n",
              "    }\n",
              "\n",
              "    .dataframe tbody tr th {\n",
              "        vertical-align: top;\n",
              "    }\n",
              "\n",
              "    .dataframe thead th {\n",
              "        text-align: right;\n",
              "    }\n",
              "</style>\n",
              "<table border=\"1\" class=\"dataframe\">\n",
              "  <thead>\n",
              "    <tr style=\"text-align: right;\">\n",
              "      <th></th>\n",
              "      <th>column_name</th>\n",
              "      <th>percent_missing</th>\n",
              "    </tr>\n",
              "  </thead>\n",
              "  <tbody>\n",
              "    <tr>\n",
              "      <th>interiorQual</th>\n",
              "      <td>interiorQual</td>\n",
              "      <td>14.813054</td>\n",
              "    </tr>\n",
              "    <tr>\n",
              "      <th>typeOfFlat</th>\n",
              "      <td>typeOfFlat</td>\n",
              "      <td>4.978436</td>\n",
              "    </tr>\n",
              "    <tr>\n",
              "      <th>condition</th>\n",
              "      <td>condition</td>\n",
              "      <td>3.704961</td>\n",
              "    </tr>\n",
              "    <tr>\n",
              "      <th>heatingType</th>\n",
              "      <td>heatingType</td>\n",
              "      <td>3.699302</td>\n",
              "    </tr>\n",
              "    <tr>\n",
              "      <th>regio1</th>\n",
              "      <td>regio1</td>\n",
              "      <td>0.000000</td>\n",
              "    </tr>\n",
              "    <tr>\n",
              "      <th>numberOfFloors</th>\n",
              "      <td>numberOfFloors</td>\n",
              "      <td>0.000000</td>\n",
              "    </tr>\n",
              "    <tr>\n",
              "      <th>floor</th>\n",
              "      <td>floor</td>\n",
              "      <td>0.000000</td>\n",
              "    </tr>\n",
              "    <tr>\n",
              "      <th>noRooms</th>\n",
              "      <td>noRooms</td>\n",
              "      <td>0.000000</td>\n",
              "    </tr>\n",
              "    <tr>\n",
              "      <th>geo_plz</th>\n",
              "      <td>geo_plz</td>\n",
              "      <td>0.000000</td>\n",
              "    </tr>\n",
              "    <tr>\n",
              "      <th>lift</th>\n",
              "      <td>lift</td>\n",
              "      <td>0.000000</td>\n",
              "    </tr>\n",
              "    <tr>\n",
              "      <th>livingSpace</th>\n",
              "      <td>livingSpace</td>\n",
              "      <td>0.000000</td>\n",
              "    </tr>\n",
              "    <tr>\n",
              "      <th>serviceCharge</th>\n",
              "      <td>serviceCharge</td>\n",
              "      <td>0.000000</td>\n",
              "    </tr>\n",
              "    <tr>\n",
              "      <th>baseRent</th>\n",
              "      <td>baseRent</td>\n",
              "      <td>0.000000</td>\n",
              "    </tr>\n",
              "    <tr>\n",
              "      <th>cellar</th>\n",
              "      <td>cellar</td>\n",
              "      <td>0.000000</td>\n",
              "    </tr>\n",
              "    <tr>\n",
              "      <th>hasKitchen</th>\n",
              "      <td>hasKitchen</td>\n",
              "      <td>0.000000</td>\n",
              "    </tr>\n",
              "    <tr>\n",
              "      <th>yearConstructed</th>\n",
              "      <td>yearConstructed</td>\n",
              "      <td>0.000000</td>\n",
              "    </tr>\n",
              "    <tr>\n",
              "      <th>totalRent</th>\n",
              "      <td>totalRent</td>\n",
              "      <td>0.000000</td>\n",
              "    </tr>\n",
              "    <tr>\n",
              "      <th>balcony</th>\n",
              "      <td>balcony</td>\n",
              "      <td>0.000000</td>\n",
              "    </tr>\n",
              "    <tr>\n",
              "      <th>newlyConst</th>\n",
              "      <td>newlyConst</td>\n",
              "      <td>0.000000</td>\n",
              "    </tr>\n",
              "    <tr>\n",
              "      <th>garden</th>\n",
              "      <td>garden</td>\n",
              "      <td>0.000000</td>\n",
              "    </tr>\n",
              "  </tbody>\n",
              "</table>\n",
              "</div>\n",
              "      <button class=\"colab-df-convert\" onclick=\"convertToInteractive('df-0770509a-bef9-4552-a369-358c78534ed0')\"\n",
              "              title=\"Convert this dataframe to an interactive table.\"\n",
              "              style=\"display:none;\">\n",
              "        \n",
              "  <svg xmlns=\"http://www.w3.org/2000/svg\" height=\"24px\"viewBox=\"0 0 24 24\"\n",
              "       width=\"24px\">\n",
              "    <path d=\"M0 0h24v24H0V0z\" fill=\"none\"/>\n",
              "    <path d=\"M18.56 5.44l.94 2.06.94-2.06 2.06-.94-2.06-.94-.94-2.06-.94 2.06-2.06.94zm-11 1L8.5 8.5l.94-2.06 2.06-.94-2.06-.94L8.5 2.5l-.94 2.06-2.06.94zm10 10l.94 2.06.94-2.06 2.06-.94-2.06-.94-.94-2.06-.94 2.06-2.06.94z\"/><path d=\"M17.41 7.96l-1.37-1.37c-.4-.4-.92-.59-1.43-.59-.52 0-1.04.2-1.43.59L10.3 9.45l-7.72 7.72c-.78.78-.78 2.05 0 2.83L4 21.41c.39.39.9.59 1.41.59.51 0 1.02-.2 1.41-.59l7.78-7.78 2.81-2.81c.8-.78.8-2.07 0-2.86zM5.41 20L4 18.59l7.72-7.72 1.47 1.35L5.41 20z\"/>\n",
              "  </svg>\n",
              "      </button>\n",
              "      \n",
              "  <style>\n",
              "    .colab-df-container {\n",
              "      display:flex;\n",
              "      flex-wrap:wrap;\n",
              "      gap: 12px;\n",
              "    }\n",
              "\n",
              "    .colab-df-convert {\n",
              "      background-color: #E8F0FE;\n",
              "      border: none;\n",
              "      border-radius: 50%;\n",
              "      cursor: pointer;\n",
              "      display: none;\n",
              "      fill: #1967D2;\n",
              "      height: 32px;\n",
              "      padding: 0 0 0 0;\n",
              "      width: 32px;\n",
              "    }\n",
              "\n",
              "    .colab-df-convert:hover {\n",
              "      background-color: #E2EBFA;\n",
              "      box-shadow: 0px 1px 2px rgba(60, 64, 67, 0.3), 0px 1px 3px 1px rgba(60, 64, 67, 0.15);\n",
              "      fill: #174EA6;\n",
              "    }\n",
              "\n",
              "    [theme=dark] .colab-df-convert {\n",
              "      background-color: #3B4455;\n",
              "      fill: #D2E3FC;\n",
              "    }\n",
              "\n",
              "    [theme=dark] .colab-df-convert:hover {\n",
              "      background-color: #434B5C;\n",
              "      box-shadow: 0px 1px 3px 1px rgba(0, 0, 0, 0.15);\n",
              "      filter: drop-shadow(0px 1px 2px rgba(0, 0, 0, 0.3));\n",
              "      fill: #FFFFFF;\n",
              "    }\n",
              "  </style>\n",
              "\n",
              "      <script>\n",
              "        const buttonEl =\n",
              "          document.querySelector('#df-0770509a-bef9-4552-a369-358c78534ed0 button.colab-df-convert');\n",
              "        buttonEl.style.display =\n",
              "          google.colab.kernel.accessAllowed ? 'block' : 'none';\n",
              "\n",
              "        async function convertToInteractive(key) {\n",
              "          const element = document.querySelector('#df-0770509a-bef9-4552-a369-358c78534ed0');\n",
              "          const dataTable =\n",
              "            await google.colab.kernel.invokeFunction('convertToInteractive',\n",
              "                                                     [key], {});\n",
              "          if (!dataTable) return;\n",
              "\n",
              "          const docLinkHtml = 'Like what you see? Visit the ' +\n",
              "            '<a target=\"_blank\" href=https://colab.research.google.com/notebooks/data_table.ipynb>data table notebook</a>'\n",
              "            + ' to learn more about interactive tables.';\n",
              "          element.innerHTML = '';\n",
              "          dataTable['output_type'] = 'display_data';\n",
              "          await google.colab.output.renderOutput(dataTable, element);\n",
              "          const docLink = document.createElement('div');\n",
              "          docLink.innerHTML = docLinkHtml;\n",
              "          element.appendChild(docLink);\n",
              "        }\n",
              "      </script>\n",
              "    </div>\n",
              "  </div>\n",
              "  "
            ]
          },
          "metadata": {},
          "execution_count": 396
        }
      ]
    },
    {
      "cell_type": "code",
      "source": [
        "data.shape"
      ],
      "metadata": {
        "colab": {
          "base_uri": "https://localhost:8080/"
        },
        "id": "CH-I2EpmgkeQ",
        "outputId": "1904cedd-50c1-4331-fab3-40ce9f7f143b"
      },
      "execution_count": null,
      "outputs": [
        {
          "output_type": "execute_result",
          "data": {
            "text/plain": [
              "(100060, 20)"
            ]
          },
          "metadata": {},
          "execution_count": 397
        }
      ]
    },
    {
      "cell_type": "code",
      "source": [
        "#Let's assumpt, we have 20 columns, in types:\n",
        "#Boolen - 6 - newlyConst, balcony, hasKitchen, cellar, lift, garden\n",
        "#Numerical - 5 - yearConstructed, livingSpace, noRooms, floor, numberOfFloors\n",
        "  #Price - 3 - serviceCharge, totalRent, baseRent\n",
        "#Geo - 2 - regio1, geo_plz \n",
        "#Dict - 4 - heatingType!!, condition!!!, interiorQual!!!, typeOfFlat!!"
      ],
      "metadata": {
        "id": "dsX3VNiusL6y"
      },
      "execution_count": null,
      "outputs": []
    },
    {
      "cell_type": "code",
      "source": [
        "#Fill null value on NA place\n",
        "data['heatingType'].fillna(\"null\",inplace=True)\n",
        "data['condition'].fillna(\"null\",inplace=True)\n",
        "data['interiorQual'].fillna(\"null\",inplace=True)\n",
        "data['typeOfFlat'].fillna(\"null\",inplace=True)"
      ],
      "metadata": {
        "id": "ICuiztqU6gZo"
      },
      "execution_count": null,
      "outputs": []
    },
    {
      "cell_type": "markdown",
      "source": [
        "IntreriorQuality & Condition column:"
      ],
      "metadata": {
        "id": "uXwclIbUD-AY"
      }
    },
    {
      "cell_type": "code",
      "source": [
        "import matplotlib.pyplot as plt\n",
        "import seaborn as sns\n",
        "plt.figure(figsize=(20,10))\n",
        "\n",
        "sns.barplot(x=data['condition'], y=data.baseRent)\n",
        "plt.show()\n",
        "\n",
        "sns.barplot(x=data['interiorQual'], y=data.baseRent)\n",
        "plt.show()\n",
        "\n",
        "sns.barplot(x=data['newlyConst'], y=data.baseRent)\n",
        "plt.show()\n",
        "\n"
      ],
      "metadata": {
        "colab": {
          "base_uri": "https://localhost:8080/",
          "height": 1000
        },
        "id": "sGjwDU-e5TOK",
        "outputId": "51454bf8-f934-4f51-a35e-febf4ab1b1de"
      },
      "execution_count": null,
      "outputs": [
        {
          "output_type": "display_data",
          "data": {
            "text/plain": [
              "<Figure size 1440x720 with 1 Axes>"
            ],
            "image/png": "[encoded data removed]"
          },
          "metadata": {
            "needs_background": "light"
          }
        },
        {
          "output_type": "display_data",
          "data": {
            "text/plain": [
              "<Figure size 2880x756 with 1 Axes>"
            ],
            "image/png": "[encoded data removed]"
          },
          "metadata": {
            "needs_background": "light"
          }
        },
        {
          "output_type": "display_data",
          "data": {
            "text/plain": [
              "<Figure size 2880x756 with 1 Axes>"
            ],
            "image/png": "[encoded data removed]"
          },
          "metadata": {
            "needs_background": "light"
          }
        }
      ]
    },
    {
      "cell_type": "code",
      "source": [
        "data['condition'].value_counts()"
      ],
      "metadata": {
        "colab": {
          "base_uri": "https://localhost:8080/"
        },
        "id": "aHL9Ncl06FET",
        "outputId": "14d0a985-b3d6-4158-cc67-8e581c48023a"
      },
      "execution_count": null,
      "outputs": [
        {
          "output_type": "execute_result",
          "data": {
            "text/plain": [
              "well_kept                             30258\n",
              "fully_renovated                       11943\n",
              "null                                  11340\n",
              "refurbished                           11130\n",
              "mint_condition                        10497\n",
              "first_time_use                         8584\n",
              "modernized                             7588\n",
              "first_time_use_after_refurbishment     7188\n",
              "negotiable                              946\n",
              "need_of_renovation                      585\n",
              "ripe_for_demolition                       1\n",
              "Name: condition, dtype: int64"
            ]
          },
          "metadata": {},
          "execution_count": 401
        }
      ]
    },
    {
      "cell_type": "code",
      "source": [
        "data['interiorQual'].value_counts()"
      ],
      "metadata": {
        "colab": {
          "base_uri": "https://localhost:8080/"
        },
        "id": "1P_wUgNxk3S_",
        "outputId": "b9b945c1-d66e-49a3-c9d5-a7b55f237f3c"
      },
      "execution_count": null,
      "outputs": [
        {
          "output_type": "execute_result",
          "data": {
            "text/plain": [
              "normal           40320\n",
              "sophisticated    31877\n",
              "null             23866\n",
              "luxury            3149\n",
              "simple             848\n",
              "Name: interiorQual, dtype: int64"
            ]
          },
          "metadata": {},
          "execution_count": 402
        }
      ]
    },
    {
      "cell_type": "code",
      "source": [
        "data.groupby('condition')['baseRent'].mean()"
      ],
      "metadata": {
        "colab": {
          "base_uri": "https://localhost:8080/"
        },
        "id": "ySQkYEG06TC5",
        "outputId": "5c224672-558d-4e6f-df78-51dc3881cad3"
      },
      "execution_count": null,
      "outputs": [
        {
          "output_type": "execute_result",
          "data": {
            "text/plain": [
              "condition\n",
              "first_time_use                        1040.431510\n",
              "first_time_use_after_refurbishment     719.772905\n",
              "fully_renovated                        563.770821\n",
              "mint_condition                         867.095523\n",
              "modernized                             552.919537\n",
              "need_of_renovation                     417.793538\n",
              "negotiable                             477.350423\n",
              "null                                   517.802433\n",
              "refurbished                            480.665378\n",
              "ripe_for_demolition                    775.000000\n",
              "well_kept                              530.139899\n",
              "Name: baseRent, dtype: float64"
            ]
          },
          "metadata": {},
          "execution_count": 403
        }
      ]
    },
    {
      "cell_type": "code",
      "source": [
        "data.groupby('interiorQual')['baseRent'].mean()"
      ],
      "metadata": {
        "colab": {
          "base_uri": "https://localhost:8080/"
        },
        "id": "6KB_jej6lFV_",
        "outputId": "d6d5baa6-c4ec-4bdf-b64e-0ca23cb86c99"
      },
      "execution_count": null,
      "outputs": [
        {
          "output_type": "execute_result",
          "data": {
            "text/plain": [
              "interiorQual\n",
              "luxury           1252.387498\n",
              "normal            467.338556\n",
              "null              508.540142\n",
              "simple            411.412983\n",
              "sophisticated     841.428671\n",
              "Name: baseRent, dtype: float64"
            ]
          },
          "metadata": {},
          "execution_count": 404
        }
      ]
    },
    {
      "cell_type": "code",
      "source": [
        "#we will change null values for potential most propaply value, based on mean baseRent and condition in newlyCont (most probably first time used and no na vaues from start)\n",
        "for index, row in data.iterrows():\n",
        "    if ((row[\"newlyConst\"] == True) & (row[\"condition\"]==\"null\")):\n",
        "        data.loc[index,['condition']] = \"first_time_use\"\n",
        "    elif ((row[\"newlyConst\"] == False) & (row[\"condition\"]==\"null\") & (row[\"baseRent\"]>=700)):\n",
        "        data.loc[index,['condition']] = \"first_time_use_after_refurbishment\"\n",
        "    elif ((row[\"newlyConst\"] == False) & (row[\"condition\"]==\"null\") & (row[\"baseRent\"]<450)):\n",
        "        data.loc[index,['condition']] = \"need_of_renovation\"\n",
        "    elif (row[\"condition\"]==\"null\"):\n",
        "        data.loc[index,['condition']] = \"well_kept\""
      ],
      "metadata": {
        "id": "0yVO0i5M664e"
      },
      "execution_count": null,
      "outputs": []
    },
    {
      "cell_type": "code",
      "source": [
        "#the same logic for interior quality, by condition and base rent (we signed some rows by well_kept, but we will it's most popular and max. 11% of rows have labels in previus step)\n",
        "for index, row in data.iterrows():\n",
        "    if ((row[\"condition\"] == \"first_time_use_after_refurbishment\") & (row[\"interiorQual\"]==\"null\") & (row[\"baseRent\"]>800)):\n",
        "        data.loc[index,['interiorQual']] = \"sophisticated\"\n",
        "    elif (row[\"interiorQual\"]==\"null\"):\n",
        "        data.loc[index,['interiorQual']] = \"normal\""
      ],
      "metadata": {
        "id": "Coen8yOlkbjk"
      },
      "execution_count": null,
      "outputs": []
    },
    {
      "cell_type": "code",
      "source": [
        "data['condition'].unique()"
      ],
      "metadata": {
        "colab": {
          "base_uri": "https://localhost:8080/"
        },
        "id": "3GUXnNexg4kZ",
        "outputId": "501851af-6ec3-4aa1-f104-784856a75202"
      },
      "execution_count": null,
      "outputs": [
        {
          "output_type": "execute_result",
          "data": {
            "text/plain": [
              "array(['well_kept', 'first_time_use',\n",
              "       'first_time_use_after_refurbishment', 'mint_condition',\n",
              "       'fully_renovated', 'need_of_renovation', 'modernized',\n",
              "       'refurbished', 'negotiable', 'ripe_for_demolition'], dtype=object)"
            ]
          },
          "metadata": {},
          "execution_count": 407
        }
      ]
    },
    {
      "cell_type": "code",
      "source": [
        "data['interiorQual'].unique()"
      ],
      "metadata": {
        "colab": {
          "base_uri": "https://localhost:8080/"
        },
        "id": "Y0m01ej_oubQ",
        "outputId": "8cb8d7a9-3505-42ef-b595-57e68697dd52"
      },
      "execution_count": null,
      "outputs": [
        {
          "output_type": "execute_result",
          "data": {
            "text/plain": [
              "array(['normal', 'sophisticated', 'luxury', 'simple'], dtype=object)"
            ]
          },
          "metadata": {},
          "execution_count": 408
        }
      ]
    },
    {
      "cell_type": "markdown",
      "source": [
        "HeatingType\n",
        "\n"
      ],
      "metadata": {
        "id": "VIWDtYUZEE4P"
      }
    },
    {
      "cell_type": "code",
      "source": [
        "data['heatingType'].unique()"
      ],
      "metadata": {
        "colab": {
          "base_uri": "https://localhost:8080/"
        },
        "id": "S06uK54g-Qr2",
        "outputId": "f41d1ea9-897c-4bb1-eb46-5cd37a236d91"
      },
      "execution_count": null,
      "outputs": [
        {
          "output_type": "execute_result",
          "data": {
            "text/plain": [
              "array(['central_heating', 'floor_heating', 'oil_heating', 'gas_heating',\n",
              "       'district_heating', 'wood_pellet_heating', 'null',\n",
              "       'electric_heating', 'self_contained_central_heating',\n",
              "       'combined_heat_and_power_plant', 'night_storage_heater',\n",
              "       'stove_heating', 'heat_pump', 'solar_heating'], dtype=object)"
            ]
          },
          "metadata": {},
          "execution_count": 409
        }
      ]
    },
    {
      "cell_type": "code",
      "source": [
        "categories = data['heatingType'].value_counts().index\n",
        "counts = data['heatingType'].value_counts().values\n",
        "plt.bar(categories, counts, width=0.5)"
      ],
      "metadata": {
        "colab": {
          "base_uri": "https://localhost:8080/",
          "height": 543
        },
        "id": "tze_Eazz-duA",
        "outputId": "acf62bcc-cd6e-4d27-ef4b-b20a1e885612"
      },
      "execution_count": null,
      "outputs": [
        {
          "output_type": "execute_result",
          "data": {
            "text/plain": [
              "<BarContainer object of 14 artists>"
            ]
          },
          "metadata": {},
          "execution_count": 410
        },
        {
          "output_type": "display_data",
          "data": {
            "text/plain": [
              "<Figure size 2880x756 with 1 Axes>"
            ],
            "image/png": "[encoded data removed]"
          },
          "metadata": {
            "needs_background": "light"
          }
        }
      ]
    },
    {
      "cell_type": "code",
      "source": [
        "data['heatingType'].value_counts()"
      ],
      "metadata": {
        "colab": {
          "base_uri": "https://localhost:8080/"
        },
        "id": "QBpN14j6_vku",
        "outputId": "858edae8-678d-4494-f763-9763a0905afa"
      },
      "execution_count": null,
      "outputs": [
        {
          "output_type": "execute_result",
          "data": {
            "text/plain": [
              "central_heating                   51087\n",
              "district_heating                  10738\n",
              "gas_heating                        8792\n",
              "floor_heating                      7890\n",
              "self_contained_central_heating     7593\n",
              "null                               7514\n",
              "oil_heating                        2349\n",
              "heat_pump                          1244\n",
              "combined_heat_and_power_plant      1131\n",
              "night_storage_heater                670\n",
              "wood_pellet_heating                 516\n",
              "electric_heating                    331\n",
              "stove_heating                       109\n",
              "solar_heating                        96\n",
              "Name: heatingType, dtype: int64"
            ]
          },
          "metadata": {},
          "execution_count": 411
        }
      ]
    },
    {
      "cell_type": "code",
      "source": [
        "#we will flag by binary column more disared locations, but before take labels in atribute\n",
        "data['BoostHeating'] = (data['heatingType'] == 'central_heating') | (data['heatingType'] == 'floor_heating') | \\\n",
        "(data['heatingType'] == 'heat_pump') | (data['heatingType'] == 'self_contained_central_heating') | (data['heatingType'] == 'solar_heating')"
      ],
      "metadata": {
        "id": "CG1g0AaIBgch"
      },
      "execution_count": null,
      "outputs": []
    },
    {
      "cell_type": "code",
      "source": [
        "data.groupby('heatingType')['baseRent'].mean()"
      ],
      "metadata": {
        "colab": {
          "base_uri": "https://localhost:8080/"
        },
        "id": "OMIVO2llCZ4T",
        "outputId": "62227d4b-97a4-42ed-9f81-eafb16596bd1"
      },
      "execution_count": null,
      "outputs": [
        {
          "output_type": "execute_result",
          "data": {
            "text/plain": [
              "heatingType\n",
              "central_heating                    560.989617\n",
              "combined_heat_and_power_plant      856.965491\n",
              "district_heating                   578.631077\n",
              "electric_heating                   553.828308\n",
              "floor_heating                     1006.176957\n",
              "gas_heating                        646.128438\n",
              "heat_pump                          972.568207\n",
              "night_storage_heater               459.379821\n",
              "null                               548.025615\n",
              "oil_heating                        650.368931\n",
              "self_contained_central_heating     617.729385\n",
              "solar_heating                      913.142917\n",
              "stove_heating                      519.625321\n",
              "wood_pellet_heating                876.274535\n",
              "Name: baseRent, dtype: float64"
            ]
          },
          "metadata": {},
          "execution_count": 413
        }
      ]
    },
    {
      "cell_type": "code",
      "source": [
        "for index, row in data.iterrows():\n",
        "    if row[\"heatingType\"] == 'null':\n",
        "        data.loc[index,['heatingType']] = 'central_heating'"
      ],
      "metadata": {
        "id": "zrzvutXlA3uo"
      },
      "execution_count": null,
      "outputs": []
    },
    {
      "cell_type": "code",
      "source": [
        "data['heatingType'].value_counts()"
      ],
      "metadata": {
        "id": "EMbwgQ_CBXuE",
        "colab": {
          "base_uri": "https://localhost:8080/"
        },
        "outputId": "ec2d91d2-d688-4a06-b2ee-5bb12d15696b"
      },
      "execution_count": null,
      "outputs": [
        {
          "output_type": "execute_result",
          "data": {
            "text/plain": [
              "central_heating                   58601\n",
              "district_heating                  10738\n",
              "gas_heating                        8792\n",
              "floor_heating                      7890\n",
              "self_contained_central_heating     7593\n",
              "oil_heating                        2349\n",
              "heat_pump                          1244\n",
              "combined_heat_and_power_plant      1131\n",
              "night_storage_heater                670\n",
              "wood_pellet_heating                 516\n",
              "electric_heating                    331\n",
              "stove_heating                       109\n",
              "solar_heating                        96\n",
              "Name: heatingType, dtype: int64"
            ]
          },
          "metadata": {},
          "execution_count": 415
        }
      ]
    },
    {
      "cell_type": "code",
      "source": [
        "#the same step for type of flat, couse appartment is most popular, but not disared in set\n",
        "data['typeOfFlat'].value_counts()"
      ],
      "metadata": {
        "id": "p_kRwCZhGb-y",
        "colab": {
          "base_uri": "https://localhost:8080/"
        },
        "outputId": "beae273f-9e40-4f75-ce61-753cf7ff4360"
      },
      "execution_count": null,
      "outputs": [
        {
          "output_type": "execute_result",
          "data": {
            "text/plain": [
              "apartment              55545\n",
              "roof_storey            14649\n",
              "ground_floor            9276\n",
              "null                    8285\n",
              "maisonette              3546\n",
              "other                   3280\n",
              "raised_ground_floor     2008\n",
              "terraced_flat           1405\n",
              "penthouse               1326\n",
              "half_basement            446\n",
              "loft                     294\n",
              "Name: typeOfFlat, dtype: int64"
            ]
          },
          "metadata": {},
          "execution_count": 416
        }
      ]
    },
    {
      "cell_type": "code",
      "source": [
        "data.groupby('typeOfFlat')['baseRent'].mean()"
      ],
      "metadata": {
        "id": "wu_oJkLlGIND",
        "colab": {
          "base_uri": "https://localhost:8080/"
        },
        "outputId": "8286ff04-04e8-411c-8f23-5200ac7d8366"
      },
      "execution_count": null,
      "outputs": [
        {
          "output_type": "execute_result",
          "data": {
            "text/plain": [
              "typeOfFlat\n",
              "apartment               601.742231\n",
              "ground_floor            620.192263\n",
              "half_basement           517.000650\n",
              "loft                   1116.208231\n",
              "maisonette              934.931698\n",
              "null                    499.549045\n",
              "other                   612.668979\n",
              "penthouse              1238.607587\n",
              "raised_ground_floor     585.399736\n",
              "roof_storey             600.029046\n",
              "terraced_flat           916.773609\n",
              "Name: baseRent, dtype: float64"
            ]
          },
          "metadata": {},
          "execution_count": 417
        }
      ]
    },
    {
      "cell_type": "code",
      "source": [
        "for index, row in data.iterrows():\n",
        "    if row[\"typeOfFlat\"] == 'null':\n",
        "        data.loc[index,['typeOfFlat']] = 'apartment'"
      ],
      "metadata": {
        "id": "pq-Y5RkbDzJa"
      },
      "execution_count": null,
      "outputs": []
    },
    {
      "cell_type": "code",
      "source": [
        "data['typeOfFlat'].value_counts()"
      ],
      "metadata": {
        "colab": {
          "base_uri": "https://localhost:8080/"
        },
        "id": "oRTBF1TuGCkd",
        "outputId": "c70ca682-6b46-4c72-e6f5-cb8cda845e9f"
      },
      "execution_count": null,
      "outputs": [
        {
          "output_type": "execute_result",
          "data": {
            "text/plain": [
              "apartment              63830\n",
              "roof_storey            14649\n",
              "ground_floor            9276\n",
              "maisonette              3546\n",
              "other                   3280\n",
              "raised_ground_floor     2008\n",
              "terraced_flat           1405\n",
              "penthouse               1326\n",
              "half_basement            446\n",
              "loft                     294\n",
              "Name: typeOfFlat, dtype: int64"
            ]
          },
          "metadata": {},
          "execution_count": 419
        }
      ]
    },
    {
      "cell_type": "code",
      "source": [
        "data.isnull().any().sum()\n",
        "#data is without walues"
      ],
      "metadata": {
        "id": "lp08B6YlCvnp",
        "colab": {
          "base_uri": "https://localhost:8080/"
        },
        "outputId": "53472d9e-0d2d-42e1-826d-8fa31e66190d"
      },
      "execution_count": null,
      "outputs": [
        {
          "output_type": "execute_result",
          "data": {
            "text/plain": [
              "0"
            ]
          },
          "metadata": {},
          "execution_count": 420
        }
      ]
    },
    {
      "cell_type": "code",
      "source": [
        "categories = data['regio1'].value_counts().index\n",
        "counts = data['regio1'].value_counts().values\n",
        "plt.rcParams[\"figure.figsize\"] = (40,10)\n",
        "plt.bar(categories, counts, width=0.5)"
      ],
      "metadata": {
        "id": "wyO6YiDaITNI",
        "colab": {
          "base_uri": "https://localhost:8080/",
          "height": 520
        },
        "outputId": "26d27dda-ed05-49ed-bd5e-f4f24a3d1a42"
      },
      "execution_count": null,
      "outputs": [
        {
          "output_type": "execute_result",
          "data": {
            "text/plain": [
              "<BarContainer object of 16 artists>"
            ]
          },
          "metadata": {},
          "execution_count": 421
        },
        {
          "output_type": "display_data",
          "data": {
            "text/plain": [
              "<Figure size 2880x720 with 1 Axes>"
            ],
            "image/png": "[encoded data removed]"
          },
          "metadata": {
            "needs_background": "light"
          }
        }
      ]
    },
    {
      "cell_type": "code",
      "source": [
        "plt.figure(figsize=(40,10))\n",
        "\n",
        "sns.barplot(x=data['regio1'], y=data['baseRent'])\n",
        "plt.show()"
      ],
      "metadata": {
        "id": "j0mjDY7dJm6b",
        "colab": {
          "base_uri": "https://localhost:8080/",
          "height": 512
        },
        "outputId": "2bce7654-3d38-4b4b-9dbe-eb17abcebb1a"
      },
      "execution_count": null,
      "outputs": [
        {
          "output_type": "display_data",
          "data": {
            "text/plain": [
              "<Figure size 2880x720 with 1 Axes>"
            ],
            "image/png": "[encoded data removed]"
          },
          "metadata": {
            "needs_background": "light"
          }
        }
      ]
    },
    {
      "cell_type": "code",
      "source": [
        "#As in previous step, we will indicate dependences in prices by boolen atributes\n",
        "data['Boost_TypeOfFlat'] = (data['typeOfFlat'] == 'maisonette') | (data['typeOfFlat'] == 'penthouse') | \\\n",
        "(data['typeOfFlat'] == 'loft') \n",
        "\n",
        "data['Exp_area'] = (data['regio1'] == 'Baden_Württemberg') | (data['regio1'] == 'Bayern') | (data['regio1'] == 'Hamburg') | \\\n",
        "(data['regio1'] == 'Hessen') | (data['regio1'] == 'Berlin') \n",
        "\n",
        "data['Cheap_area'] = (data['regio1'] == 'Sachsen_Anhalt') | (data['regio1'] == 'Thüringen') | (data['regio1'] == 'Sachsen') | \\\n",
        "(data['regio1'] == 'Mecklenburg_Vorpommern') \n",
        "\n",
        "data['Boost_condition'] = (data['condition'] == 'mint_condition') | (data['condition'] == 'first_time_use') | (data['condition'] == 'fully_renovated') | \\\n",
        "(data['condition'] == 'first_time_use_after_refurbishment') "
      ],
      "metadata": {
        "id": "_z_-nzvPHpi6"
      },
      "execution_count": null,
      "outputs": []
    },
    {
      "cell_type": "code",
      "source": [
        "data.head()"
      ],
      "metadata": {
        "id": "eYIcjRyZQeRa",
        "colab": {
          "base_uri": "https://localhost:8080/",
          "height": 270
        },
        "outputId": "0cfda9af-49d0-42f0-a05a-27c9063fc726"
      },
      "execution_count": null,
      "outputs": [
        {
          "output_type": "execute_result",
          "data": {
            "text/plain": [
              "                 regio1  serviceCharge      heatingType  newlyConst  balcony  \\\n",
              "0   Nordrhein_Westfalen          245.0  central_heating       False    False   \n",
              "2               Sachsen          255.0    floor_heating        True     True   \n",
              "8     Baden_Württemberg          110.0      oil_heating       False    False   \n",
              "13  Nordrhein_Westfalen          200.0  central_heating       False    False   \n",
              "14  Nordrhein_Westfalen          215.0      gas_heating        True     True   \n",
              "\n",
              "    totalRent  yearConstructed  hasKitchen  cellar  baseRent  livingSpace  \\\n",
              "0      840.00           1965.0       False    True     595.0        86.00   \n",
              "2     1300.00           2019.0       False    True     965.0        83.80   \n",
              "8      690.00           1970.0        True    True     580.0        53.00   \n",
              "13    1150.00           1951.0       False   False     950.0       123.44   \n",
              "14    1320.65           2018.0       False    True     972.6        87.00   \n",
              "\n",
              "                             condition   interiorQual   lift    typeOfFlat  \\\n",
              "0                            well_kept         normal  False  ground_floor   \n",
              "2                       first_time_use  sophisticated   True     apartment   \n",
              "8                            well_kept  sophisticated  False   roof_storey   \n",
              "13  first_time_use_after_refurbishment  sophisticated  False     apartment   \n",
              "14                      first_time_use  sophisticated   True  ground_floor   \n",
              "\n",
              "    geo_plz  noRooms  floor  numberOfFloors  garden  BoostHeating  \\\n",
              "0     44269      4.0    1.0             3.0    True          True   \n",
              "2      1097      3.0    3.0             4.0   False          True   \n",
              "8     79211      2.0    2.0             2.0   False         False   \n",
              "13    59065      4.0    4.0             4.0   False          True   \n",
              "14    44229      3.0    0.0             4.0   False         False   \n",
              "\n",
              "    Boost_TypeOfFlat  Exp_area  Cheap_area  Boost_condition  \n",
              "0              False     False       False            False  \n",
              "2              False     False        True             True  \n",
              "8              False      True       False            False  \n",
              "13             False     False       False             True  \n",
              "14             False     False       False             True  "
            ],
            "text/html": [
              "\n",
              "  <div id=\"df-5ea6cc59-568d-45aa-96cb-c1c4aa9e6627\">\n",
              "    <div class=\"colab-df-container\">\n",
              "      <div>\n",
              "<style scoped>\n",
              "    .dataframe tbody tr th:only-of-type {\n",
              "        vertical-align: middle;\n",
              "    }\n",
              "\n",
              "    .dataframe tbody tr th {\n",
              "        vertical-align: top;\n",
              "    }\n",
              "\n",
              "    .dataframe thead th {\n",
              "        text-align: right;\n",
              "    }\n",
              "</style>\n",
              "<table border=\"1\" class=\"dataframe\">\n",
              "  <thead>\n",
              "    <tr style=\"text-align: right;\">\n",
              "      <th></th>\n",
              "      <th>regio1</th>\n",
              "      <th>serviceCharge</th>\n",
              "      <th>heatingType</th>\n",
              "      <th>newlyConst</th>\n",
              "      <th>balcony</th>\n",
              "      <th>totalRent</th>\n",
              "      <th>yearConstructed</th>\n",
              "      <th>hasKitchen</th>\n",
              "      <th>cellar</th>\n",
              "      <th>baseRent</th>\n",
              "      <th>livingSpace</th>\n",
              "      <th>condition</th>\n",
              "      <th>interiorQual</th>\n",
              "      <th>lift</th>\n",
              "      <th>typeOfFlat</th>\n",
              "      <th>geo_plz</th>\n",
              "      <th>noRooms</th>\n",
              "      <th>floor</th>\n",
              "      <th>numberOfFloors</th>\n",
              "      <th>garden</th>\n",
              "      <th>BoostHeating</th>\n",
              "      <th>Boost_TypeOfFlat</th>\n",
              "      <th>Exp_area</th>\n",
              "      <th>Cheap_area</th>\n",
              "      <th>Boost_condition</th>\n",
              "    </tr>\n",
              "  </thead>\n",
              "  <tbody>\n",
              "    <tr>\n",
              "      <th>0</th>\n",
              "      <td>Nordrhein_Westfalen</td>\n",
              "      <td>245.0</td>\n",
              "      <td>central_heating</td>\n",
              "      <td>False</td>\n",
              "      <td>False</td>\n",
              "      <td>840.00</td>\n",
              "      <td>1965.0</td>\n",
              "      <td>False</td>\n",
              "      <td>True</td>\n",
              "      <td>595.0</td>\n",
              "      <td>86.00</td>\n",
              "      <td>well_kept</td>\n",
              "      <td>normal</td>\n",
              "      <td>False</td>\n",
              "      <td>ground_floor</td>\n",
              "      <td>44269</td>\n",
              "      <td>4.0</td>\n",
              "      <td>1.0</td>\n",
              "      <td>3.0</td>\n",
              "      <td>True</td>\n",
              "      <td>True</td>\n",
              "      <td>False</td>\n",
              "      <td>False</td>\n",
              "      <td>False</td>\n",
              "      <td>False</td>\n",
              "    </tr>\n",
              "    <tr>\n",
              "      <th>2</th>\n",
              "      <td>Sachsen</td>\n",
              "      <td>255.0</td>\n",
              "      <td>floor_heating</td>\n",
              "      <td>True</td>\n",
              "      <td>True</td>\n",
              "      <td>1300.00</td>\n",
              "      <td>2019.0</td>\n",
              "      <td>False</td>\n",
              "      <td>True</td>\n",
              "      <td>965.0</td>\n",
              "      <td>83.80</td>\n",
              "      <td>first_time_use</td>\n",
              "      <td>sophisticated</td>\n",
              "      <td>True</td>\n",
              "      <td>apartment</td>\n",
              "      <td>1097</td>\n",
              "      <td>3.0</td>\n",
              "      <td>3.0</td>\n",
              "      <td>4.0</td>\n",
              "      <td>False</td>\n",
              "      <td>True</td>\n",
              "      <td>False</td>\n",
              "      <td>False</td>\n",
              "      <td>True</td>\n",
              "      <td>True</td>\n",
              "    </tr>\n",
              "    <tr>\n",
              "      <th>8</th>\n",
              "      <td>Baden_Württemberg</td>\n",
              "      <td>110.0</td>\n",
              "      <td>oil_heating</td>\n",
              "      <td>False</td>\n",
              "      <td>False</td>\n",
              "      <td>690.00</td>\n",
              "      <td>1970.0</td>\n",
              "      <td>True</td>\n",
              "      <td>True</td>\n",
              "      <td>580.0</td>\n",
              "      <td>53.00</td>\n",
              "      <td>well_kept</td>\n",
              "      <td>sophisticated</td>\n",
              "      <td>False</td>\n",
              "      <td>roof_storey</td>\n",
              "      <td>79211</td>\n",
              "      <td>2.0</td>\n",
              "      <td>2.0</td>\n",
              "      <td>2.0</td>\n",
              "      <td>False</td>\n",
              "      <td>False</td>\n",
              "      <td>False</td>\n",
              "      <td>True</td>\n",
              "      <td>False</td>\n",
              "      <td>False</td>\n",
              "    </tr>\n",
              "    <tr>\n",
              "      <th>13</th>\n",
              "      <td>Nordrhein_Westfalen</td>\n",
              "      <td>200.0</td>\n",
              "      <td>central_heating</td>\n",
              "      <td>False</td>\n",
              "      <td>False</td>\n",
              "      <td>1150.00</td>\n",
              "      <td>1951.0</td>\n",
              "      <td>False</td>\n",
              "      <td>False</td>\n",
              "      <td>950.0</td>\n",
              "      <td>123.44</td>\n",
              "      <td>first_time_use_after_refurbishment</td>\n",
              "      <td>sophisticated</td>\n",
              "      <td>False</td>\n",
              "      <td>apartment</td>\n",
              "      <td>59065</td>\n",
              "      <td>4.0</td>\n",
              "      <td>4.0</td>\n",
              "      <td>4.0</td>\n",
              "      <td>False</td>\n",
              "      <td>True</td>\n",
              "      <td>False</td>\n",
              "      <td>False</td>\n",
              "      <td>False</td>\n",
              "      <td>True</td>\n",
              "    </tr>\n",
              "    <tr>\n",
              "      <th>14</th>\n",
              "      <td>Nordrhein_Westfalen</td>\n",
              "      <td>215.0</td>\n",
              "      <td>gas_heating</td>\n",
              "      <td>True</td>\n",
              "      <td>True</td>\n",
              "      <td>1320.65</td>\n",
              "      <td>2018.0</td>\n",
              "      <td>False</td>\n",
              "      <td>True</td>\n",
              "      <td>972.6</td>\n",
              "      <td>87.00</td>\n",
              "      <td>first_time_use</td>\n",
              "      <td>sophisticated</td>\n",
              "      <td>True</td>\n",
              "      <td>ground_floor</td>\n",
              "      <td>44229</td>\n",
              "      <td>3.0</td>\n",
              "      <td>0.0</td>\n",
              "      <td>4.0</td>\n",
              "      <td>False</td>\n",
              "      <td>False</td>\n",
              "      <td>False</td>\n",
              "      <td>False</td>\n",
              "      <td>False</td>\n",
              "      <td>True</td>\n",
              "    </tr>\n",
              "  </tbody>\n",
              "</table>\n",
              "</div>\n",
              "      <button class=\"colab-df-convert\" onclick=\"convertToInteractive('df-5ea6cc59-568d-45aa-96cb-c1c4aa9e6627')\"\n",
              "              title=\"Convert this dataframe to an interactive table.\"\n",
              "              style=\"display:none;\">\n",
              "        \n",
              "  <svg xmlns=\"http://www.w3.org/2000/svg\" height=\"24px\"viewBox=\"0 0 24 24\"\n",
              "       width=\"24px\">\n",
              "    <path d=\"M0 0h24v24H0V0z\" fill=\"none\"/>\n",
              "    <path d=\"M18.56 5.44l.94 2.06.94-2.06 2.06-.94-2.06-.94-.94-2.06-.94 2.06-2.06.94zm-11 1L8.5 8.5l.94-2.06 2.06-.94-2.06-.94L8.5 2.5l-.94 2.06-2.06.94zm10 10l.94 2.06.94-2.06 2.06-.94-2.06-.94-.94-2.06-.94 2.06-2.06.94z\"/><path d=\"M17.41 7.96l-1.37-1.37c-.4-.4-.92-.59-1.43-.59-.52 0-1.04.2-1.43.59L10.3 9.45l-7.72 7.72c-.78.78-.78 2.05 0 2.83L4 21.41c.39.39.9.59 1.41.59.51 0 1.02-.2 1.41-.59l7.78-7.78 2.81-2.81c.8-.78.8-2.07 0-2.86zM5.41 20L4 18.59l7.72-7.72 1.47 1.35L5.41 20z\"/>\n",
              "  </svg>\n",
              "      </button>\n",
              "      \n",
              "  <style>\n",
              "    .colab-df-container {\n",
              "      display:flex;\n",
              "      flex-wrap:wrap;\n",
              "      gap: 12px;\n",
              "    }\n",
              "\n",
              "    .colab-df-convert {\n",
              "      background-color: #E8F0FE;\n",
              "      border: none;\n",
              "      border-radius: 50%;\n",
              "      cursor: pointer;\n",
              "      display: none;\n",
              "      fill: #1967D2;\n",
              "      height: 32px;\n",
              "      padding: 0 0 0 0;\n",
              "      width: 32px;\n",
              "    }\n",
              "\n",
              "    .colab-df-convert:hover {\n",
              "      background-color: #E2EBFA;\n",
              "      box-shadow: 0px 1px 2px rgba(60, 64, 67, 0.3), 0px 1px 3px 1px rgba(60, 64, 67, 0.15);\n",
              "      fill: #174EA6;\n",
              "    }\n",
              "\n",
              "    [theme=dark] .colab-df-convert {\n",
              "      background-color: #3B4455;\n",
              "      fill: #D2E3FC;\n",
              "    }\n",
              "\n",
              "    [theme=dark] .colab-df-convert:hover {\n",
              "      background-color: #434B5C;\n",
              "      box-shadow: 0px 1px 3px 1px rgba(0, 0, 0, 0.15);\n",
              "      filter: drop-shadow(0px 1px 2px rgba(0, 0, 0, 0.3));\n",
              "      fill: #FFFFFF;\n",
              "    }\n",
              "  </style>\n",
              "\n",
              "      <script>\n",
              "        const buttonEl =\n",
              "          document.querySelector('#df-5ea6cc59-568d-45aa-96cb-c1c4aa9e6627 button.colab-df-convert');\n",
              "        buttonEl.style.display =\n",
              "          google.colab.kernel.accessAllowed ? 'block' : 'none';\n",
              "\n",
              "        async function convertToInteractive(key) {\n",
              "          const element = document.querySelector('#df-5ea6cc59-568d-45aa-96cb-c1c4aa9e6627');\n",
              "          const dataTable =\n",
              "            await google.colab.kernel.invokeFunction('convertToInteractive',\n",
              "                                                     [key], {});\n",
              "          if (!dataTable) return;\n",
              "\n",
              "          const docLinkHtml = 'Like what you see? Visit the ' +\n",
              "            '<a target=\"_blank\" href=https://colab.research.google.com/notebooks/data_table.ipynb>data table notebook</a>'\n",
              "            + ' to learn more about interactive tables.';\n",
              "          element.innerHTML = '';\n",
              "          dataTable['output_type'] = 'display_data';\n",
              "          await google.colab.output.renderOutput(dataTable, element);\n",
              "          const docLink = document.createElement('div');\n",
              "          docLink.innerHTML = docLinkHtml;\n",
              "          element.appendChild(docLink);\n",
              "        }\n",
              "      </script>\n",
              "    </div>\n",
              "  </div>\n",
              "  "
            ]
          },
          "metadata": {},
          "execution_count": 424
        }
      ]
    },
    {
      "cell_type": "code",
      "source": [
        "import numpy as np\n",
        "#for better scoring we will youse logarited totalRent\n",
        "data['logRent'] = np.log(data['totalRent'])\n",
        "\n",
        "y_var = ['logRent']\n",
        "X_var = ['newlyConst', 'balcony', 'hasKitchen', 'lift', 'garden', \n",
        "        'livingSpace', 'noRooms', 'numberOfFloors',\n",
        "        'BoostHeating', 'Boost_TypeOfFlat', 'Exp_area', 'Cheap_area', 'Boost_condition'] #'floor'\n",
        "y = data[y_var].values\n",
        "X = data[X_var].values\n",
        "\n",
        "from sklearn.model_selection import train_test_split\n",
        "X_train, X_test, y_train, y_test = train_test_split(X, y, test_size=0.25, random_state=42)"
      ],
      "metadata": {
        "id": "34CDVzJ0OYkt"
      },
      "execution_count": null,
      "outputs": []
    },
    {
      "cell_type": "code",
      "source": [
        "#LINEAR REGRESSION\n",
        "from sklearn.linear_model import LinearRegression\n",
        "from sklearn import metrics\n",
        "import statsmodels.api as sm\n",
        "\n",
        "linreg = LinearRegression()\n",
        "linreg.fit(X_train, y_train)\n",
        "y_pred = linreg.predict(X_test)\n",
        "print('MAE:', metrics.mean_absolute_error(y_test, y_pred))\n",
        "print('MSE:', metrics.mean_squared_error(y_test, y_pred))\n",
        "print('RSS:', metrics.mean_squared_error(y_test, y_pred))\n",
        "\n",
        "X2 = sm.add_constant(y_pred)\n",
        "est = sm.OLS(y_test, X2)\n",
        "est2 = est.fit()\n",
        "print(est2.summary())"
      ],
      "metadata": {
        "id": "4GFM00aYA3iQ",
        "colab": {
          "base_uri": "https://localhost:8080/"
        },
        "outputId": "77e6bb6c-25f7-49b7-dc09-d8a16d6fa5fa"
      },
      "execution_count": null,
      "outputs": [
        {
          "output_type": "stream",
          "name": "stdout",
          "text": [
            "MAE: 0.17279025551759594\n",
            "MSE: 0.05141557120127396\n",
            "R^2: 0.7847205272286768\n",
            "RSS: 0.05141557120127396\n",
            "                            OLS Regression Results                            \n",
            "==============================================================================\n",
            "Dep. Variable:                      y   R-squared:                       0.785\n",
            "Model:                            OLS   Adj. R-squared:                  0.785\n",
            "Method:                 Least Squares   F-statistic:                 9.122e+04\n",
            "Date:                Fri, 27 Jan 2023   Prob (F-statistic):               0.00\n",
            "Time:                        22:39:35   Log-Likelihood:                 1629.6\n",
            "No. Observations:               25015   AIC:                            -3255.\n",
            "Df Residuals:                   25013   BIC:                            -3239.\n",
            "Df Model:                           1                                         \n",
            "Covariance Type:            nonrobust                                         \n",
            "==============================================================================\n",
            "                 coef    std err          t      P>|t|      [0.025      0.975]\n",
            "------------------------------------------------------------------------------\n",
            "const          0.0591      0.022      2.743      0.006       0.017       0.101\n",
            "x1             0.9908      0.003    302.021      0.000       0.984       0.997\n",
            "==============================================================================\n",
            "Omnibus:                     1601.429   Durbin-Watson:                   1.980\n",
            "Prob(Omnibus):                  0.000   Jarque-Bera (JB):             7289.015\n",
            "Skew:                           0.106   Prob(JB):                         0.00\n",
            "Kurtosis:                       5.636   Cond. No.                         101.\n",
            "==============================================================================\n",
            "\n",
            "Notes:\n",
            "[1] Standard Errors assume that the covariance matrix of the errors is correctly specified.\n"
          ]
        }
      ]
    },
    {
      "cell_type": "code",
      "source": [
        "plt.scatter(y_pred,y_test)\n",
        "plt.xlabel('predicted value of Total Rent value')\n",
        "plt.ylabel('y')\n",
        "plt.figure()"
      ],
      "metadata": {
        "id": "9ElcZYxTyVD8",
        "colab": {
          "base_uri": "https://localhost:8080/",
          "height": 551
        },
        "outputId": "2e40f173-c602-4280-d2c6-2cf4cf29b9f8"
      },
      "execution_count": null,
      "outputs": [
        {
          "output_type": "execute_result",
          "data": {
            "text/plain": [
              "<Figure size 2880x720 with 0 Axes>"
            ]
          },
          "metadata": {},
          "execution_count": 447
        },
        {
          "output_type": "display_data",
          "data": {
            "text/plain": [
              "<Figure size 2880x720 with 1 Axes>"
            ],
            "image/png": "[encoded data removed]"
          },
          "metadata": {
            "needs_background": "light"
          }
        },
        {
          "output_type": "display_data",
          "data": {
            "text/plain": [
              "<Figure size 2880x720 with 0 Axes>"
            ]
          },
          "metadata": {}
        }
      ]
    }
  ],
  "metadata": {
    "colab": {
      "provenance": []
    },
    "kernelspec": {
      "display_name": "Python 3",
      "name": "python3"
    },
    "language_info": {
      "name": "python"
    }
  },
  "nbformat": 4,
  "nbformat_minor": 0
}